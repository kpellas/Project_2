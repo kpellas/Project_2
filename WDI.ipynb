{
 "cells": [
  {
   "cell_type": "code",
   "execution_count": 1,
   "id": "7535b36b",
   "metadata": {},
   "outputs": [],
   "source": [
    "import pandas as pd\n",
    "import matplotlib.pyplot as plt\n",
    "import seaborn as sns\n",
    "from pprint import pprint\n",
    "\n",
    "from IPython.display import Markdown, display\n",
    "from IPython.display import HTML\n",
    "\n",
    "def printmd(string):\n",
    "    display(Markdown(string))\n"
   ]
  },
  {
   "cell_type": "code",
   "execution_count": 9,
   "id": "7fa3a7e2",
   "metadata": {},
   "outputs": [],
   "source": [
    "all_data = pd.read_csv(\"./data/WDIData.csv\")"
   ]
  },
  {
   "cell_type": "code",
   "execution_count": 8,
   "id": "034992eb",
   "metadata": {},
   "outputs": [
    {
     "data": {
      "text/html": [
       "<div>\n",
       "<style scoped>\n",
       "    .dataframe tbody tr th:only-of-type {\n",
       "        vertical-align: middle;\n",
       "    }\n",
       "\n",
       "    .dataframe tbody tr th {\n",
       "        vertical-align: top;\n",
       "    }\n",
       "\n",
       "    .dataframe thead th {\n",
       "        text-align: right;\n",
       "    }\n",
       "</style>\n",
       "<table border=\"1\" class=\"dataframe\">\n",
       "  <thead>\n",
       "    <tr style=\"text-align: right;\">\n",
       "      <th></th>\n",
       "      <th>Country Name</th>\n",
       "      <th>Country Code</th>\n",
       "      <th>Indicator Name</th>\n",
       "      <th>Indicator Code</th>\n",
       "      <th>1960</th>\n",
       "      <th>1961</th>\n",
       "      <th>1962</th>\n",
       "      <th>1963</th>\n",
       "      <th>1964</th>\n",
       "      <th>1965</th>\n",
       "      <th>...</th>\n",
       "      <th>2012</th>\n",
       "      <th>2013</th>\n",
       "      <th>2014</th>\n",
       "      <th>2015</th>\n",
       "      <th>2016</th>\n",
       "      <th>2017</th>\n",
       "      <th>2018</th>\n",
       "      <th>2019</th>\n",
       "      <th>2020</th>\n",
       "      <th>Unnamed: 65</th>\n",
       "    </tr>\n",
       "  </thead>\n",
       "  <tbody>\n",
       "    <tr>\n",
       "      <th>0</th>\n",
       "      <td>Africa Eastern and Southern</td>\n",
       "      <td>AFE</td>\n",
       "      <td>Access to clean fuels and technologies for coo...</td>\n",
       "      <td>EG.CFT.ACCS.ZS</td>\n",
       "      <td>NaN</td>\n",
       "      <td>NaN</td>\n",
       "      <td>NaN</td>\n",
       "      <td>NaN</td>\n",
       "      <td>NaN</td>\n",
       "      <td>NaN</td>\n",
       "      <td>...</td>\n",
       "      <td>16.511262</td>\n",
       "      <td>16.966046</td>\n",
       "      <td>17.411737</td>\n",
       "      <td>17.808234</td>\n",
       "      <td>18.179760</td>\n",
       "      <td>18.558937</td>\n",
       "      <td>18.949636</td>\n",
       "      <td>19.333168</td>\n",
       "      <td>NaN</td>\n",
       "      <td>NaN</td>\n",
       "    </tr>\n",
       "    <tr>\n",
       "      <th>1</th>\n",
       "      <td>Africa Eastern and Southern</td>\n",
       "      <td>AFE</td>\n",
       "      <td>Access to electricity (% of population)</td>\n",
       "      <td>EG.ELC.ACCS.ZS</td>\n",
       "      <td>NaN</td>\n",
       "      <td>NaN</td>\n",
       "      <td>NaN</td>\n",
       "      <td>NaN</td>\n",
       "      <td>NaN</td>\n",
       "      <td>NaN</td>\n",
       "      <td>...</td>\n",
       "      <td>32.224027</td>\n",
       "      <td>32.046478</td>\n",
       "      <td>31.323579</td>\n",
       "      <td>33.312163</td>\n",
       "      <td>38.380433</td>\n",
       "      <td>39.754201</td>\n",
       "      <td>42.168241</td>\n",
       "      <td>43.640661</td>\n",
       "      <td>NaN</td>\n",
       "      <td>NaN</td>\n",
       "    </tr>\n",
       "    <tr>\n",
       "      <th>2</th>\n",
       "      <td>Africa Eastern and Southern</td>\n",
       "      <td>AFE</td>\n",
       "      <td>Access to electricity, rural (% of rural popul...</td>\n",
       "      <td>EG.ELC.ACCS.RU.ZS</td>\n",
       "      <td>NaN</td>\n",
       "      <td>NaN</td>\n",
       "      <td>NaN</td>\n",
       "      <td>NaN</td>\n",
       "      <td>NaN</td>\n",
       "      <td>NaN</td>\n",
       "      <td>...</td>\n",
       "      <td>20.525353</td>\n",
       "      <td>19.461383</td>\n",
       "      <td>17.790698</td>\n",
       "      <td>16.553470</td>\n",
       "      <td>23.907897</td>\n",
       "      <td>24.624725</td>\n",
       "      <td>26.813900</td>\n",
       "      <td>28.841150</td>\n",
       "      <td>NaN</td>\n",
       "      <td>NaN</td>\n",
       "    </tr>\n",
       "    <tr>\n",
       "      <th>3</th>\n",
       "      <td>Africa Eastern and Southern</td>\n",
       "      <td>AFE</td>\n",
       "      <td>Access to electricity, urban (% of urban popul...</td>\n",
       "      <td>EG.ELC.ACCS.UR.ZS</td>\n",
       "      <td>NaN</td>\n",
       "      <td>NaN</td>\n",
       "      <td>NaN</td>\n",
       "      <td>NaN</td>\n",
       "      <td>NaN</td>\n",
       "      <td>NaN</td>\n",
       "      <td>...</td>\n",
       "      <td>66.303599</td>\n",
       "      <td>66.496010</td>\n",
       "      <td>65.828988</td>\n",
       "      <td>66.926692</td>\n",
       "      <td>68.722184</td>\n",
       "      <td>71.085418</td>\n",
       "      <td>71.994933</td>\n",
       "      <td>73.589886</td>\n",
       "      <td>NaN</td>\n",
       "      <td>NaN</td>\n",
       "    </tr>\n",
       "    <tr>\n",
       "      <th>4</th>\n",
       "      <td>Africa Eastern and Southern</td>\n",
       "      <td>AFE</td>\n",
       "      <td>Account ownership at a financial institution o...</td>\n",
       "      <td>FX.OWN.TOTL.ZS</td>\n",
       "      <td>NaN</td>\n",
       "      <td>NaN</td>\n",
       "      <td>NaN</td>\n",
       "      <td>NaN</td>\n",
       "      <td>NaN</td>\n",
       "      <td>NaN</td>\n",
       "      <td>...</td>\n",
       "      <td>NaN</td>\n",
       "      <td>NaN</td>\n",
       "      <td>NaN</td>\n",
       "      <td>NaN</td>\n",
       "      <td>NaN</td>\n",
       "      <td>NaN</td>\n",
       "      <td>NaN</td>\n",
       "      <td>NaN</td>\n",
       "      <td>NaN</td>\n",
       "      <td>NaN</td>\n",
       "    </tr>\n",
       "    <tr>\n",
       "      <th>...</th>\n",
       "      <td>...</td>\n",
       "      <td>...</td>\n",
       "      <td>...</td>\n",
       "      <td>...</td>\n",
       "      <td>...</td>\n",
       "      <td>...</td>\n",
       "      <td>...</td>\n",
       "      <td>...</td>\n",
       "      <td>...</td>\n",
       "      <td>...</td>\n",
       "      <td>...</td>\n",
       "      <td>...</td>\n",
       "      <td>...</td>\n",
       "      <td>...</td>\n",
       "      <td>...</td>\n",
       "      <td>...</td>\n",
       "      <td>...</td>\n",
       "      <td>...</td>\n",
       "      <td>...</td>\n",
       "      <td>...</td>\n",
       "      <td>...</td>\n",
       "    </tr>\n",
       "    <tr>\n",
       "      <th>383833</th>\n",
       "      <td>Zimbabwe</td>\n",
       "      <td>ZWE</td>\n",
       "      <td>Women who believe a husband is justified in be...</td>\n",
       "      <td>SG.VAW.REFU.ZS</td>\n",
       "      <td>NaN</td>\n",
       "      <td>NaN</td>\n",
       "      <td>NaN</td>\n",
       "      <td>NaN</td>\n",
       "      <td>NaN</td>\n",
       "      <td>NaN</td>\n",
       "      <td>...</td>\n",
       "      <td>NaN</td>\n",
       "      <td>NaN</td>\n",
       "      <td>NaN</td>\n",
       "      <td>14.500000</td>\n",
       "      <td>NaN</td>\n",
       "      <td>NaN</td>\n",
       "      <td>NaN</td>\n",
       "      <td>NaN</td>\n",
       "      <td>NaN</td>\n",
       "      <td>NaN</td>\n",
       "    </tr>\n",
       "    <tr>\n",
       "      <th>383834</th>\n",
       "      <td>Zimbabwe</td>\n",
       "      <td>ZWE</td>\n",
       "      <td>Women who were first married by age 15 (% of w...</td>\n",
       "      <td>SP.M15.2024.FE.ZS</td>\n",
       "      <td>NaN</td>\n",
       "      <td>NaN</td>\n",
       "      <td>NaN</td>\n",
       "      <td>NaN</td>\n",
       "      <td>NaN</td>\n",
       "      <td>NaN</td>\n",
       "      <td>...</td>\n",
       "      <td>NaN</td>\n",
       "      <td>NaN</td>\n",
       "      <td>NaN</td>\n",
       "      <td>3.700000</td>\n",
       "      <td>NaN</td>\n",
       "      <td>NaN</td>\n",
       "      <td>NaN</td>\n",
       "      <td>5.418352</td>\n",
       "      <td>NaN</td>\n",
       "      <td>NaN</td>\n",
       "    </tr>\n",
       "    <tr>\n",
       "      <th>383835</th>\n",
       "      <td>Zimbabwe</td>\n",
       "      <td>ZWE</td>\n",
       "      <td>Women who were first married by age 18 (% of w...</td>\n",
       "      <td>SP.M18.2024.FE.ZS</td>\n",
       "      <td>NaN</td>\n",
       "      <td>NaN</td>\n",
       "      <td>NaN</td>\n",
       "      <td>NaN</td>\n",
       "      <td>NaN</td>\n",
       "      <td>NaN</td>\n",
       "      <td>...</td>\n",
       "      <td>NaN</td>\n",
       "      <td>NaN</td>\n",
       "      <td>33.500000</td>\n",
       "      <td>32.400000</td>\n",
       "      <td>NaN</td>\n",
       "      <td>NaN</td>\n",
       "      <td>NaN</td>\n",
       "      <td>33.658057</td>\n",
       "      <td>NaN</td>\n",
       "      <td>NaN</td>\n",
       "    </tr>\n",
       "    <tr>\n",
       "      <th>383836</th>\n",
       "      <td>Zimbabwe</td>\n",
       "      <td>ZWE</td>\n",
       "      <td>Women's share of population ages 15+ living wi...</td>\n",
       "      <td>SH.DYN.AIDS.FE.ZS</td>\n",
       "      <td>NaN</td>\n",
       "      <td>NaN</td>\n",
       "      <td>NaN</td>\n",
       "      <td>NaN</td>\n",
       "      <td>NaN</td>\n",
       "      <td>NaN</td>\n",
       "      <td>...</td>\n",
       "      <td>58.900000</td>\n",
       "      <td>59.200000</td>\n",
       "      <td>59.400000</td>\n",
       "      <td>59.500000</td>\n",
       "      <td>59.700000</td>\n",
       "      <td>59.900000</td>\n",
       "      <td>60.000000</td>\n",
       "      <td>60.200000</td>\n",
       "      <td>60.4</td>\n",
       "      <td>NaN</td>\n",
       "    </tr>\n",
       "    <tr>\n",
       "      <th>383837</th>\n",
       "      <td>Zimbabwe</td>\n",
       "      <td>ZWE</td>\n",
       "      <td>Young people (ages 15-24) newly infected with HIV</td>\n",
       "      <td>SH.HIV.INCD.YG</td>\n",
       "      <td>NaN</td>\n",
       "      <td>NaN</td>\n",
       "      <td>NaN</td>\n",
       "      <td>NaN</td>\n",
       "      <td>NaN</td>\n",
       "      <td>NaN</td>\n",
       "      <td>...</td>\n",
       "      <td>20000.000000</td>\n",
       "      <td>18000.000000</td>\n",
       "      <td>17000.000000</td>\n",
       "      <td>15000.000000</td>\n",
       "      <td>14000.000000</td>\n",
       "      <td>12000.000000</td>\n",
       "      <td>9700.000000</td>\n",
       "      <td>9600.000000</td>\n",
       "      <td>7500.0</td>\n",
       "      <td>NaN</td>\n",
       "    </tr>\n",
       "  </tbody>\n",
       "</table>\n",
       "<p>383838 rows × 66 columns</p>\n",
       "</div>"
      ],
      "text/plain": [
       "                       Country Name Country Code  \\\n",
       "0       Africa Eastern and Southern          AFE   \n",
       "1       Africa Eastern and Southern          AFE   \n",
       "2       Africa Eastern and Southern          AFE   \n",
       "3       Africa Eastern and Southern          AFE   \n",
       "4       Africa Eastern and Southern          AFE   \n",
       "...                             ...          ...   \n",
       "383833                     Zimbabwe          ZWE   \n",
       "383834                     Zimbabwe          ZWE   \n",
       "383835                     Zimbabwe          ZWE   \n",
       "383836                     Zimbabwe          ZWE   \n",
       "383837                     Zimbabwe          ZWE   \n",
       "\n",
       "                                           Indicator Name     Indicator Code  \\\n",
       "0       Access to clean fuels and technologies for coo...     EG.CFT.ACCS.ZS   \n",
       "1                 Access to electricity (% of population)     EG.ELC.ACCS.ZS   \n",
       "2       Access to electricity, rural (% of rural popul...  EG.ELC.ACCS.RU.ZS   \n",
       "3       Access to electricity, urban (% of urban popul...  EG.ELC.ACCS.UR.ZS   \n",
       "4       Account ownership at a financial institution o...     FX.OWN.TOTL.ZS   \n",
       "...                                                   ...                ...   \n",
       "383833  Women who believe a husband is justified in be...     SG.VAW.REFU.ZS   \n",
       "383834  Women who were first married by age 15 (% of w...  SP.M15.2024.FE.ZS   \n",
       "383835  Women who were first married by age 18 (% of w...  SP.M18.2024.FE.ZS   \n",
       "383836  Women's share of population ages 15+ living wi...  SH.DYN.AIDS.FE.ZS   \n",
       "383837  Young people (ages 15-24) newly infected with HIV     SH.HIV.INCD.YG   \n",
       "\n",
       "        1960  1961  1962  1963  1964  1965  ...          2012          2013  \\\n",
       "0        NaN   NaN   NaN   NaN   NaN   NaN  ...     16.511262     16.966046   \n",
       "1        NaN   NaN   NaN   NaN   NaN   NaN  ...     32.224027     32.046478   \n",
       "2        NaN   NaN   NaN   NaN   NaN   NaN  ...     20.525353     19.461383   \n",
       "3        NaN   NaN   NaN   NaN   NaN   NaN  ...     66.303599     66.496010   \n",
       "4        NaN   NaN   NaN   NaN   NaN   NaN  ...           NaN           NaN   \n",
       "...      ...   ...   ...   ...   ...   ...  ...           ...           ...   \n",
       "383833   NaN   NaN   NaN   NaN   NaN   NaN  ...           NaN           NaN   \n",
       "383834   NaN   NaN   NaN   NaN   NaN   NaN  ...           NaN           NaN   \n",
       "383835   NaN   NaN   NaN   NaN   NaN   NaN  ...           NaN           NaN   \n",
       "383836   NaN   NaN   NaN   NaN   NaN   NaN  ...     58.900000     59.200000   \n",
       "383837   NaN   NaN   NaN   NaN   NaN   NaN  ...  20000.000000  18000.000000   \n",
       "\n",
       "                2014          2015          2016          2017         2018  \\\n",
       "0          17.411737     17.808234     18.179760     18.558937    18.949636   \n",
       "1          31.323579     33.312163     38.380433     39.754201    42.168241   \n",
       "2          17.790698     16.553470     23.907897     24.624725    26.813900   \n",
       "3          65.828988     66.926692     68.722184     71.085418    71.994933   \n",
       "4                NaN           NaN           NaN           NaN          NaN   \n",
       "...              ...           ...           ...           ...          ...   \n",
       "383833           NaN     14.500000           NaN           NaN          NaN   \n",
       "383834           NaN      3.700000           NaN           NaN          NaN   \n",
       "383835     33.500000     32.400000           NaN           NaN          NaN   \n",
       "383836     59.400000     59.500000     59.700000     59.900000    60.000000   \n",
       "383837  17000.000000  15000.000000  14000.000000  12000.000000  9700.000000   \n",
       "\n",
       "               2019    2020  Unnamed: 65  \n",
       "0         19.333168     NaN          NaN  \n",
       "1         43.640661     NaN          NaN  \n",
       "2         28.841150     NaN          NaN  \n",
       "3         73.589886     NaN          NaN  \n",
       "4               NaN     NaN          NaN  \n",
       "...             ...     ...          ...  \n",
       "383833          NaN     NaN          NaN  \n",
       "383834     5.418352     NaN          NaN  \n",
       "383835    33.658057     NaN          NaN  \n",
       "383836    60.200000    60.4          NaN  \n",
       "383837  9600.000000  7500.0          NaN  \n",
       "\n",
       "[383838 rows x 66 columns]"
      ]
     },
     "execution_count": 8,
     "metadata": {},
     "output_type": "execute_result"
    }
   ],
   "source": [
    "all_data"
   ]
  },
  {
   "cell_type": "code",
   "execution_count": 10,
   "id": "92c64678",
   "metadata": {},
   "outputs": [
    {
     "data": {
      "text/html": [
       "<div>\n",
       "<style scoped>\n",
       "    .dataframe tbody tr th:only-of-type {\n",
       "        vertical-align: middle;\n",
       "    }\n",
       "\n",
       "    .dataframe tbody tr th {\n",
       "        vertical-align: top;\n",
       "    }\n",
       "\n",
       "    .dataframe thead th {\n",
       "        text-align: right;\n",
       "    }\n",
       "</style>\n",
       "<table border=\"1\" class=\"dataframe\">\n",
       "  <thead>\n",
       "    <tr style=\"text-align: right;\">\n",
       "      <th></th>\n",
       "      <th>Country Name</th>\n",
       "      <th>Indicator Name</th>\n",
       "      <th>1960</th>\n",
       "      <th>1970</th>\n",
       "      <th>1980</th>\n",
       "      <th>1990</th>\n",
       "      <th>2000</th>\n",
       "      <th>2010</th>\n",
       "      <th>2011</th>\n",
       "      <th>2012</th>\n",
       "      <th>2013</th>\n",
       "      <th>2014</th>\n",
       "      <th>2015</th>\n",
       "      <th>2016</th>\n",
       "      <th>2017</th>\n",
       "      <th>2018</th>\n",
       "      <th>2019</th>\n",
       "      <th>2020</th>\n",
       "    </tr>\n",
       "  </thead>\n",
       "  <tbody>\n",
       "    <tr>\n",
       "      <th>0</th>\n",
       "      <td>Africa Eastern and Southern</td>\n",
       "      <td>Access to clean fuels and technologies for coo...</td>\n",
       "      <td>NaN</td>\n",
       "      <td>NaN</td>\n",
       "      <td>NaN</td>\n",
       "      <td>NaN</td>\n",
       "      <td>11.469146</td>\n",
       "      <td>15.658101</td>\n",
       "      <td>16.097824</td>\n",
       "      <td>16.511262</td>\n",
       "      <td>16.966046</td>\n",
       "      <td>17.411737</td>\n",
       "      <td>17.808234</td>\n",
       "      <td>18.179760</td>\n",
       "      <td>18.558937</td>\n",
       "      <td>18.949636</td>\n",
       "      <td>19.333168</td>\n",
       "      <td>NaN</td>\n",
       "    </tr>\n",
       "    <tr>\n",
       "      <th>1</th>\n",
       "      <td>Africa Eastern and Southern</td>\n",
       "      <td>Access to electricity (% of population)</td>\n",
       "      <td>NaN</td>\n",
       "      <td>NaN</td>\n",
       "      <td>NaN</td>\n",
       "      <td>NaN</td>\n",
       "      <td>20.086007</td>\n",
       "      <td>28.233373</td>\n",
       "      <td>28.381836</td>\n",
       "      <td>32.224027</td>\n",
       "      <td>32.046478</td>\n",
       "      <td>31.323579</td>\n",
       "      <td>33.312163</td>\n",
       "      <td>38.380433</td>\n",
       "      <td>39.754201</td>\n",
       "      <td>42.168241</td>\n",
       "      <td>43.640661</td>\n",
       "      <td>NaN</td>\n",
       "    </tr>\n",
       "    <tr>\n",
       "      <th>2</th>\n",
       "      <td>Africa Eastern and Southern</td>\n",
       "      <td>Access to electricity, rural (% of rural popul...</td>\n",
       "      <td>NaN</td>\n",
       "      <td>NaN</td>\n",
       "      <td>NaN</td>\n",
       "      <td>NaN</td>\n",
       "      <td>8.491610</td>\n",
       "      <td>16.241064</td>\n",
       "      <td>15.295950</td>\n",
       "      <td>20.525353</td>\n",
       "      <td>19.461383</td>\n",
       "      <td>17.790698</td>\n",
       "      <td>16.553470</td>\n",
       "      <td>23.907897</td>\n",
       "      <td>24.624725</td>\n",
       "      <td>26.813900</td>\n",
       "      <td>28.841150</td>\n",
       "      <td>NaN</td>\n",
       "    </tr>\n",
       "    <tr>\n",
       "      <th>3</th>\n",
       "      <td>Africa Eastern and Southern</td>\n",
       "      <td>Access to electricity, urban (% of urban popul...</td>\n",
       "      <td>NaN</td>\n",
       "      <td>NaN</td>\n",
       "      <td>NaN</td>\n",
       "      <td>NaN</td>\n",
       "      <td>56.083452</td>\n",
       "      <td>62.520824</td>\n",
       "      <td>65.470615</td>\n",
       "      <td>66.303599</td>\n",
       "      <td>66.496010</td>\n",
       "      <td>65.828988</td>\n",
       "      <td>66.926692</td>\n",
       "      <td>68.722184</td>\n",
       "      <td>71.085418</td>\n",
       "      <td>71.994933</td>\n",
       "      <td>73.589886</td>\n",
       "      <td>NaN</td>\n",
       "    </tr>\n",
       "    <tr>\n",
       "      <th>4</th>\n",
       "      <td>Africa Eastern and Southern</td>\n",
       "      <td>Account ownership at a financial institution o...</td>\n",
       "      <td>NaN</td>\n",
       "      <td>NaN</td>\n",
       "      <td>NaN</td>\n",
       "      <td>NaN</td>\n",
       "      <td>NaN</td>\n",
       "      <td>NaN</td>\n",
       "      <td>NaN</td>\n",
       "      <td>NaN</td>\n",
       "      <td>NaN</td>\n",
       "      <td>NaN</td>\n",
       "      <td>NaN</td>\n",
       "      <td>NaN</td>\n",
       "      <td>NaN</td>\n",
       "      <td>NaN</td>\n",
       "      <td>NaN</td>\n",
       "      <td>NaN</td>\n",
       "    </tr>\n",
       "    <tr>\n",
       "      <th>...</th>\n",
       "      <td>...</td>\n",
       "      <td>...</td>\n",
       "      <td>...</td>\n",
       "      <td>...</td>\n",
       "      <td>...</td>\n",
       "      <td>...</td>\n",
       "      <td>...</td>\n",
       "      <td>...</td>\n",
       "      <td>...</td>\n",
       "      <td>...</td>\n",
       "      <td>...</td>\n",
       "      <td>...</td>\n",
       "      <td>...</td>\n",
       "      <td>...</td>\n",
       "      <td>...</td>\n",
       "      <td>...</td>\n",
       "      <td>...</td>\n",
       "      <td>...</td>\n",
       "    </tr>\n",
       "    <tr>\n",
       "      <th>383833</th>\n",
       "      <td>Zimbabwe</td>\n",
       "      <td>Women who believe a husband is justified in be...</td>\n",
       "      <td>NaN</td>\n",
       "      <td>NaN</td>\n",
       "      <td>NaN</td>\n",
       "      <td>NaN</td>\n",
       "      <td>NaN</td>\n",
       "      <td>NaN</td>\n",
       "      <td>16.900000</td>\n",
       "      <td>NaN</td>\n",
       "      <td>NaN</td>\n",
       "      <td>NaN</td>\n",
       "      <td>14.500000</td>\n",
       "      <td>NaN</td>\n",
       "      <td>NaN</td>\n",
       "      <td>NaN</td>\n",
       "      <td>NaN</td>\n",
       "      <td>NaN</td>\n",
       "    </tr>\n",
       "    <tr>\n",
       "      <th>383834</th>\n",
       "      <td>Zimbabwe</td>\n",
       "      <td>Women who were first married by age 15 (% of w...</td>\n",
       "      <td>NaN</td>\n",
       "      <td>NaN</td>\n",
       "      <td>NaN</td>\n",
       "      <td>NaN</td>\n",
       "      <td>NaN</td>\n",
       "      <td>NaN</td>\n",
       "      <td>3.900000</td>\n",
       "      <td>NaN</td>\n",
       "      <td>NaN</td>\n",
       "      <td>NaN</td>\n",
       "      <td>3.700000</td>\n",
       "      <td>NaN</td>\n",
       "      <td>NaN</td>\n",
       "      <td>NaN</td>\n",
       "      <td>5.418352</td>\n",
       "      <td>NaN</td>\n",
       "    </tr>\n",
       "    <tr>\n",
       "      <th>383835</th>\n",
       "      <td>Zimbabwe</td>\n",
       "      <td>Women who were first married by age 18 (% of w...</td>\n",
       "      <td>NaN</td>\n",
       "      <td>NaN</td>\n",
       "      <td>NaN</td>\n",
       "      <td>NaN</td>\n",
       "      <td>NaN</td>\n",
       "      <td>NaN</td>\n",
       "      <td>30.500000</td>\n",
       "      <td>NaN</td>\n",
       "      <td>NaN</td>\n",
       "      <td>33.500000</td>\n",
       "      <td>32.400000</td>\n",
       "      <td>NaN</td>\n",
       "      <td>NaN</td>\n",
       "      <td>NaN</td>\n",
       "      <td>33.658057</td>\n",
       "      <td>NaN</td>\n",
       "    </tr>\n",
       "    <tr>\n",
       "      <th>383836</th>\n",
       "      <td>Zimbabwe</td>\n",
       "      <td>Women's share of population ages 15+ living wi...</td>\n",
       "      <td>NaN</td>\n",
       "      <td>NaN</td>\n",
       "      <td>NaN</td>\n",
       "      <td>53.2</td>\n",
       "      <td>56.300000</td>\n",
       "      <td>58.500000</td>\n",
       "      <td>58.700000</td>\n",
       "      <td>58.900000</td>\n",
       "      <td>59.200000</td>\n",
       "      <td>59.400000</td>\n",
       "      <td>59.500000</td>\n",
       "      <td>59.700000</td>\n",
       "      <td>59.900000</td>\n",
       "      <td>60.000000</td>\n",
       "      <td>60.200000</td>\n",
       "      <td>60.4</td>\n",
       "    </tr>\n",
       "    <tr>\n",
       "      <th>383837</th>\n",
       "      <td>Zimbabwe</td>\n",
       "      <td>Young people (ages 15-24) newly infected with HIV</td>\n",
       "      <td>NaN</td>\n",
       "      <td>NaN</td>\n",
       "      <td>NaN</td>\n",
       "      <td>73000.0</td>\n",
       "      <td>41000.000000</td>\n",
       "      <td>24000.000000</td>\n",
       "      <td>22000.000000</td>\n",
       "      <td>20000.000000</td>\n",
       "      <td>18000.000000</td>\n",
       "      <td>17000.000000</td>\n",
       "      <td>15000.000000</td>\n",
       "      <td>14000.000000</td>\n",
       "      <td>12000.000000</td>\n",
       "      <td>9700.000000</td>\n",
       "      <td>9600.000000</td>\n",
       "      <td>7500.0</td>\n",
       "    </tr>\n",
       "  </tbody>\n",
       "</table>\n",
       "<p>383838 rows × 18 columns</p>\n",
       "</div>"
      ],
      "text/plain": [
       "                       Country Name  \\\n",
       "0       Africa Eastern and Southern   \n",
       "1       Africa Eastern and Southern   \n",
       "2       Africa Eastern and Southern   \n",
       "3       Africa Eastern and Southern   \n",
       "4       Africa Eastern and Southern   \n",
       "...                             ...   \n",
       "383833                     Zimbabwe   \n",
       "383834                     Zimbabwe   \n",
       "383835                     Zimbabwe   \n",
       "383836                     Zimbabwe   \n",
       "383837                     Zimbabwe   \n",
       "\n",
       "                                           Indicator Name  1960  1970  1980  \\\n",
       "0       Access to clean fuels and technologies for coo...   NaN   NaN   NaN   \n",
       "1                 Access to electricity (% of population)   NaN   NaN   NaN   \n",
       "2       Access to electricity, rural (% of rural popul...   NaN   NaN   NaN   \n",
       "3       Access to electricity, urban (% of urban popul...   NaN   NaN   NaN   \n",
       "4       Account ownership at a financial institution o...   NaN   NaN   NaN   \n",
       "...                                                   ...   ...   ...   ...   \n",
       "383833  Women who believe a husband is justified in be...   NaN   NaN   NaN   \n",
       "383834  Women who were first married by age 15 (% of w...   NaN   NaN   NaN   \n",
       "383835  Women who were first married by age 18 (% of w...   NaN   NaN   NaN   \n",
       "383836  Women's share of population ages 15+ living wi...   NaN   NaN   NaN   \n",
       "383837  Young people (ages 15-24) newly infected with HIV   NaN   NaN   NaN   \n",
       "\n",
       "           1990          2000          2010          2011          2012  \\\n",
       "0           NaN     11.469146     15.658101     16.097824     16.511262   \n",
       "1           NaN     20.086007     28.233373     28.381836     32.224027   \n",
       "2           NaN      8.491610     16.241064     15.295950     20.525353   \n",
       "3           NaN     56.083452     62.520824     65.470615     66.303599   \n",
       "4           NaN           NaN           NaN           NaN           NaN   \n",
       "...         ...           ...           ...           ...           ...   \n",
       "383833      NaN           NaN           NaN     16.900000           NaN   \n",
       "383834      NaN           NaN           NaN      3.900000           NaN   \n",
       "383835      NaN           NaN           NaN     30.500000           NaN   \n",
       "383836     53.2     56.300000     58.500000     58.700000     58.900000   \n",
       "383837  73000.0  41000.000000  24000.000000  22000.000000  20000.000000   \n",
       "\n",
       "                2013          2014          2015          2016          2017  \\\n",
       "0          16.966046     17.411737     17.808234     18.179760     18.558937   \n",
       "1          32.046478     31.323579     33.312163     38.380433     39.754201   \n",
       "2          19.461383     17.790698     16.553470     23.907897     24.624725   \n",
       "3          66.496010     65.828988     66.926692     68.722184     71.085418   \n",
       "4                NaN           NaN           NaN           NaN           NaN   \n",
       "...              ...           ...           ...           ...           ...   \n",
       "383833           NaN           NaN     14.500000           NaN           NaN   \n",
       "383834           NaN           NaN      3.700000           NaN           NaN   \n",
       "383835           NaN     33.500000     32.400000           NaN           NaN   \n",
       "383836     59.200000     59.400000     59.500000     59.700000     59.900000   \n",
       "383837  18000.000000  17000.000000  15000.000000  14000.000000  12000.000000   \n",
       "\n",
       "               2018         2019    2020  \n",
       "0         18.949636    19.333168     NaN  \n",
       "1         42.168241    43.640661     NaN  \n",
       "2         26.813900    28.841150     NaN  \n",
       "3         71.994933    73.589886     NaN  \n",
       "4               NaN          NaN     NaN  \n",
       "...             ...          ...     ...  \n",
       "383833          NaN          NaN     NaN  \n",
       "383834          NaN     5.418352     NaN  \n",
       "383835          NaN    33.658057     NaN  \n",
       "383836    60.000000    60.200000    60.4  \n",
       "383837  9700.000000  9600.000000  7500.0  \n",
       "\n",
       "[383838 rows x 18 columns]"
      ]
     },
     "execution_count": 10,
     "metadata": {},
     "output_type": "execute_result"
    }
   ],
   "source": [
    "snapshot = all_data[[\"Country Name\", \"Indicator Name\", \"1960\", \"1970\", \"1980\", \"1990\", \"2000\",  \"2010\", \"2011\", \"2012\", \"2013\", \"2014\", \"2015\", \"2016\", \"2017\", \"2018\", \"2019\", \"2020\"]]\n",
    "snapshot"
   ]
  },
  {
   "cell_type": "code",
   "execution_count": null,
   "id": "eefb9322",
   "metadata": {},
   "outputs": [],
   "source": [
    "fig, ax = plt.subplots(figsize=(20,10))     \n",
    "cols = snapshot.columns \n",
    "colours = ['#1f497d', '#ffffff'] \n",
    "sns.heatmap(snapshot[cols].isnull(), cmap=sns.color_palette(colours))\n",
    "ax.set_xticklabels(ax.get_xticklabels(),rotation =80)\n",
    "ax.set_title(\"Missing Data Distribution\")\n",
    "\n",
    "plt.show()"
   ]
  },
  {
   "cell_type": "markdown",
   "id": "66d9cad9",
   "metadata": {},
   "source": [
    "### 2018 - Seems to have the most data for the more current years"
   ]
  },
  {
   "cell_type": "code",
   "execution_count": 12,
   "id": "21645e8a",
   "metadata": {},
   "outputs": [
    {
     "data": {
      "text/markdown": [
       "**Number of countries:** 266"
      ],
      "text/plain": [
       "<IPython.core.display.Markdown object>"
      ]
     },
     "metadata": {},
     "output_type": "display_data"
    }
   ],
   "source": [
    "data_2018 = all_data[[\"Country Name\", \"Indicator Name\", \"2018\"]]\n",
    "data = data_2018.rename(columns={'Country Name': 'Country', 'Indicator Name': 'Indicator'})\n",
    "num_countries = data.Country.nunique()\n",
    "printmd(f\"**Number of countries:** {num_countries}\")"
   ]
  },
  {
   "cell_type": "markdown",
   "id": "b10bf879",
   "metadata": {},
   "source": [
    "### Possible indicators for us to use in the project.\n",
    "\n",
    "For specifics about the indicators, go here: \n",
    "https://datacatalog.worldbank.org/search/dataset/0037712/World-Development-Indicators\n",
    "\n",
    "I tried to use indicators that were percentage of population or per 1,000, so it's relative rather than absolute."
   ]
  },
  {
   "cell_type": "code",
   "execution_count": 132,
   "id": "8be1b3ed",
   "metadata": {
    "scrolled": false
   },
   "outputs": [],
   "source": [
    "# Economic and access (water, electricity, fuel for cooking) indicators \n",
    "cooking_tech =  data[data.Indicator.str.contains(\"cooking\")].reset_index(drop=True)\n",
    "access_electricity = data[data.Indicator.str.contains(\"Access to electricity \\(% of population\\)\")].reset_index(drop=True)\n",
    "income_per_capita = data[data.Indicator.str.contains(\"net national income per capita\")].reset_index(drop=True)\n",
    "education_expenditure_prim = data[data.Indicator.str.contains(\"Current education expenditure, primary\")].reset_index(drop=True)\n",
    "drinking_water_services  = data[data.Indicator.str.contains(\"People using at least basic drinking water services \\(% of population\")].reset_index(drop=True)\n",
    "basic_sanitation = data[data.Indicator.str.contains(\"People using at least basic sanitation services \\(% of population\\)\")].reset_index(drop=True)\n",
    "nurses_midwives = data[data.Indicator.str.contains(\"Nurses and midwives\")].reset_index(drop=True)\n",
    "physicians = data[data.Indicator.str.contains(\"Physicians\")].reset_index(drop=True)\n",
    "undernourishment = data[data.Indicator.str.contains(\"Prevalence of undernourishment \\(% of population\")].reset_index(drop=True)\n",
    "sev_food_insecurity_all = data[data.Indicator.str.contains(\"Prevalence of severe food insecurity in the population\")].reset_index(drop=True)\n",
    "mod_sev_food_insecurity_all = data[data.Indicator.str.contains(\"moderate or severe food insecurity in the population\")].reset_index(drop=True)\n",
    "births_skilled_staff = data[data.Indicator.str.contains(\"Births attended by skilled health staff \\(% of total\\)\")].reset_index(drop=True)\n",
    "\n",
    "# health indicators\n",
    "adolescent_fertility_rate = data[data.Indicator.str.contains(\"Adolescent fertility rate\")].reset_index(drop=True)\n",
    "adolescents_out_of_school = data[data.Indicator.str.contains(\"Adolescents out of school \\(% of lower secondary school age\\)\")].reset_index(drop=True)\n",
    "health_expediture = data[data.Indicator.str.contains(\"Current health expenditure per capita \\(current\")].reset_index(drop=True)\n",
    "fertility_rate = data[data.Indicator.str.contains(\"Fertility rate, total \\(births per woman\\)\")].reset_index(drop=True)\n",
    "measles_immunizaton = data[data.Indicator.str.contains(\"measles\")].reset_index(drop=True)\n",
    "life_expectancy_at_birth_female = data[data.Indicator.str.contains(\"birth, female\")].reset_index(drop=True)\n",
    "life_expectancy_at_birth_male = data[data.Indicator.str.contains(\"birth, male\")].reset_index(drop=True)\n",
    "life_expectancy_at_birth_total = data[data.Indicator.str.contains(\"birth, total\")].reset_index(drop=True)\n",
    "mortality_rate_infant = data[data.Indicator.str.contains(\"Mortality rate, infant \\(\")].reset_index(drop=True)\n",
    "mortality_rate_infant_male = data[data.Indicator.str.contains(\"Mortality rate, infant, male\")].reset_index(drop=True)\n",
    "mortality_rate_infant_female = data[data.Indicator.str.contains(\"Mortality rate, infant, female\")].reset_index(drop=True)\n",
    "mortality_rate_under_5 = data[data.Indicator.str.contains(\"Mortality rate, under-5 \\(\")].reset_index(drop=True)\n",
    "mortality_rate_under_5_female = data[data.Indicator.str.contains(\"Mortality rate, under-5, female\")].reset_index(drop=True)\n",
    "mortality_rate_under_5_male = data[data.Indicator.str.contains(\"Mortality rate, under-5, male\")].reset_index(drop=True)\n",
    "anemia_children = data[data.Indicator.str.contains(\"anemia among childre\")].reset_index(drop=True)\n",
    "stunting_height_age = data[data.Indicator.str.contains(\"Prevalence of stunting, height for age \\(modeled\")].reset_index(drop=True)\n",
    "overweight_children_under_5 = data[data.Indicator.str.contains(\"overweight \\(modeled\")].reset_index(drop=True)\n",
    "\n",
    "\n",
    "# education\n",
    "children_out_of_school = data[data.Indicator.str.contains(\"Children out of school\")].reset_index(drop=True)\n",
    "children_out_of_school_prim = data[data.Indicator.str.contains(\"Children out of school, primary\")].reset_index(drop=True)\n",
    "compulsory_education = data[data.Indicator.str.contains(\"Compulsory education\")].reset_index(drop=True)\n",
    "lower_secondary_school_starting_age = data[data.Indicator.str.contains(\"secondary school starting age\")].reset_index(drop=True)\n",
    "primary_edu_duration = data[data.Indicator.str.contains(\"Primary education, duration \\(years]\\)\")].reset_index(drop=True)\n",
    "primary_starting_age = data[data.Indicator.str.contains(\"Primary school starting age \\(years\\)\")].reset_index(drop=True)\n",
    "probability_dying_10_14 = data[data.Indicator.str.contains(\"Probability of dying among adolescents ages 10-14 years \\(per 1,000\\)\")].reset_index(drop=True)\n",
    "probability_dying_15_19 = data[data.Indicator.str.contains(\"Probability of dying among adolescents ages 15-19 years \\(per 1,000\\)\")].reset_index(drop=True)\n",
    "probability_dying_5_9 = data[data.Indicator.str.contains(\"Probability of dying among children ages 5-9 years \\(per 1,000\\)\")].reset_index(drop=True)\n",
    "school_enrollment_preprimary =data[data.Indicator.str.contains(\"School enrollment, preprimary \\(% gross\\)\")].reset_index(drop=True)\n",
    "\n",
    "school_enrollment_primary = data[data.Indicator.str.contains(\"School enrollment, primary \\(% gross\\)\")].reset_index(drop=True)\n",
    "school_enrollment_secondary = data[data.Indicator.str.contains(\"School enrollment, secondary \\(% gross\\)\")].reset_index(drop=True)\n",
    "\n",
    "pre_primary_duration = data[data.Indicator.str.contains(\"Preprimary education, duration \\(years\\)\")].reset_index(drop=True)\n",
    "primary_ed_duration = data[data.Indicator.str.contains(\"Primary education, duration\")].reset_index(drop=True)\n",
    "\n",
    "\n",
    "# Additional Indicators we can add are listed at the bottom\n",
    "population_14 = data[data.Indicator.str.contains(\"Population ages 0-14 \\(% of total \")].reset_index(drop=True)\n",
    "\n"
   ]
  },
  {
   "attachments": {},
   "cell_type": "markdown",
   "id": "e8d48bf8",
   "metadata": {},
   "source": [
    "### How much data is missing per indicator\n",
    "\n",
    "Below I checked the output of each indicator to see what percentage of data is missing. For example, for \"Access to clearn fuels and technologies for cooking\" - (cooking_tech), there is no data for 11% of the countries in the dataset. I think a good line in the sand is to focus on indicators for which at least 20% of the countries have data. Thoughts? **There are a few that don't meet this criteria below.\n",
    "\n"
   ]
  },
  {
   "cell_type": "code",
   "execution_count": 133,
   "id": "dbd07a27",
   "metadata": {},
   "outputs": [
    {
     "data": {
      "text/html": [
       "<div>\n",
       "<style scoped>\n",
       "    .dataframe tbody tr th:only-of-type {\n",
       "        vertical-align: middle;\n",
       "    }\n",
       "\n",
       "    .dataframe tbody tr th {\n",
       "        vertical-align: top;\n",
       "    }\n",
       "\n",
       "    .dataframe thead th {\n",
       "        text-align: right;\n",
       "    }\n",
       "</style>\n",
       "<table border=\"1\" class=\"dataframe\">\n",
       "  <thead>\n",
       "    <tr style=\"text-align: right;\">\n",
       "      <th></th>\n",
       "      <th>Country</th>\n",
       "      <th>Indicator</th>\n",
       "      <th>2018</th>\n",
       "    </tr>\n",
       "  </thead>\n",
       "  <tbody>\n",
       "    <tr>\n",
       "      <th>0</th>\n",
       "      <td>Africa Eastern and Southern</td>\n",
       "      <td>Prevalence of undernourishment (% of population)</td>\n",
       "      <td>23.405499</td>\n",
       "    </tr>\n",
       "    <tr>\n",
       "      <th>1</th>\n",
       "      <td>Africa Western and Central</td>\n",
       "      <td>Prevalence of undernourishment (% of population)</td>\n",
       "      <td>12.420730</td>\n",
       "    </tr>\n",
       "    <tr>\n",
       "      <th>2</th>\n",
       "      <td>Arab World</td>\n",
       "      <td>Prevalence of undernourishment (% of population)</td>\n",
       "      <td>13.607920</td>\n",
       "    </tr>\n",
       "    <tr>\n",
       "      <th>3</th>\n",
       "      <td>Caribbean small states</td>\n",
       "      <td>Prevalence of undernourishment (% of population)</td>\n",
       "      <td>6.992515</td>\n",
       "    </tr>\n",
       "    <tr>\n",
       "      <th>4</th>\n",
       "      <td>Central Europe and the Baltics</td>\n",
       "      <td>Prevalence of undernourishment (% of population)</td>\n",
       "      <td>2.605544</td>\n",
       "    </tr>\n",
       "    <tr>\n",
       "      <th>...</th>\n",
       "      <td>...</td>\n",
       "      <td>...</td>\n",
       "      <td>...</td>\n",
       "    </tr>\n",
       "    <tr>\n",
       "      <th>261</th>\n",
       "      <td>Virgin Islands (U.S.)</td>\n",
       "      <td>Prevalence of undernourishment (% of population)</td>\n",
       "      <td>NaN</td>\n",
       "    </tr>\n",
       "    <tr>\n",
       "      <th>262</th>\n",
       "      <td>West Bank and Gaza</td>\n",
       "      <td>Prevalence of undernourishment (% of population)</td>\n",
       "      <td>NaN</td>\n",
       "    </tr>\n",
       "    <tr>\n",
       "      <th>263</th>\n",
       "      <td>Yemen, Rep.</td>\n",
       "      <td>Prevalence of undernourishment (% of population)</td>\n",
       "      <td>45.400000</td>\n",
       "    </tr>\n",
       "    <tr>\n",
       "      <th>264</th>\n",
       "      <td>Zambia</td>\n",
       "      <td>Prevalence of undernourishment (% of population)</td>\n",
       "      <td>NaN</td>\n",
       "    </tr>\n",
       "    <tr>\n",
       "      <th>265</th>\n",
       "      <td>Zimbabwe</td>\n",
       "      <td>Prevalence of undernourishment (% of population)</td>\n",
       "      <td>NaN</td>\n",
       "    </tr>\n",
       "  </tbody>\n",
       "</table>\n",
       "<p>266 rows × 3 columns</p>\n",
       "</div>"
      ],
      "text/plain": [
       "                            Country  \\\n",
       "0       Africa Eastern and Southern   \n",
       "1        Africa Western and Central   \n",
       "2                        Arab World   \n",
       "3            Caribbean small states   \n",
       "4    Central Europe and the Baltics   \n",
       "..                              ...   \n",
       "261           Virgin Islands (U.S.)   \n",
       "262              West Bank and Gaza   \n",
       "263                     Yemen, Rep.   \n",
       "264                          Zambia   \n",
       "265                        Zimbabwe   \n",
       "\n",
       "                                            Indicator       2018  \n",
       "0    Prevalence of undernourishment (% of population)  23.405499  \n",
       "1    Prevalence of undernourishment (% of population)  12.420730  \n",
       "2    Prevalence of undernourishment (% of population)  13.607920  \n",
       "3    Prevalence of undernourishment (% of population)   6.992515  \n",
       "4    Prevalence of undernourishment (% of population)   2.605544  \n",
       "..                                                ...        ...  \n",
       "261  Prevalence of undernourishment (% of population)        NaN  \n",
       "262  Prevalence of undernourishment (% of population)        NaN  \n",
       "263  Prevalence of undernourishment (% of population)  45.400000  \n",
       "264  Prevalence of undernourishment (% of population)        NaN  \n",
       "265  Prevalence of undernourishment (% of population)        NaN  \n",
       "\n",
       "[266 rows x 3 columns]"
      ]
     },
     "execution_count": 133,
     "metadata": {},
     "output_type": "execute_result"
    }
   ],
   "source": [
    "undernourishment"
   ]
  },
  {
   "cell_type": "code",
   "execution_count": 136,
   "id": "72236fdb",
   "metadata": {},
   "outputs": [],
   "source": [
    "# Economic and access (water, electricity, fuel for cooking) indicators \n",
    "indicators = [cooking_tech,\n",
    "    access_electricity,\n",
    "    income_per_capita,\n",
    "    education_expenditure_prim,\n",
    "    drinking_water_services,\n",
    "    basic_sanitation,\n",
    "    nurses_midwives,\n",
    "    physicians,\n",
    "    births_skilled_staff,\n",
    "    undernourishment,\n",
    "    sev_food_insecurity_all,\n",
    "    mod_sev_food_insecurity_all,\n",
    "    adolescent_fertility_rate,\n",
    "    adolescents_out_of_school,\n",
    "    health_expediture ,\n",
    "    fertility_rate ,\n",
    "    measles_immunizaton ,\n",
    "    life_expectancy_at_birth_female,\n",
    "    life_expectancy_at_birth_male, \n",
    "    life_expectancy_at_birth_total,\n",
    "    mortality_rate_infant,\n",
    "    mortality_rate_infant_male,\n",
    "    mortality_rate_infant_female,\n",
    "    mortality_rate_under_5,\n",
    "    mortality_rate_under_5_female,\n",
    "    mortality_rate_under_5_male,\n",
    "    anemia_children,\n",
    "    stunting_height_age,\n",
    "    overweight_children_under_5,\n",
    "\n",
    "\n",
    "    children_out_of_school,\n",
    "    children_out_of_school_prim ,\n",
    "    compulsory_education,\n",
    "    lower_secondary_school_starting_age,\n",
    "    primary_edu_duration,\n",
    "    primary_starting_age,\n",
    "    probability_dying_10_14,\n",
    "    probability_dying_15_19,\n",
    "    probability_dying_5_9,\n",
    "    school_enrollment_preprimary,\n",
    "\n",
    "    school_enrollment_primary,\n",
    "    school_enrollment_secondary,\n",
    "\n",
    "    pre_primary_duration,\n",
    "    primary_ed_duration,\n",
    "    population_14]\n",
    "\n"
   ]
  },
  {
   "cell_type": "code",
   "execution_count": 135,
   "id": "67e4af0b",
   "metadata": {
    "scrolled": true
   },
   "outputs": [
    {
     "data": {
      "text/markdown": [
       " **Access to clean fuels and technologies for cooking (% of population):**  11%"
      ],
      "text/plain": [
       "<IPython.core.display.Markdown object>"
      ]
     },
     "metadata": {},
     "output_type": "display_data"
    },
    {
     "data": {
      "text/markdown": [
       " **Access to electricity (% of population):**  1%"
      ],
      "text/plain": [
       "<IPython.core.display.Markdown object>"
      ]
     },
     "metadata": {},
     "output_type": "display_data"
    },
    {
     "data": {
      "text/markdown": [
       " **Adjusted net national income per capita (annual % growth):**  25%"
      ],
      "text/plain": [
       "<IPython.core.display.Markdown object>"
      ]
     },
     "metadata": {},
     "output_type": "display_data"
    },
    {
     "data": {
      "text/markdown": [
       " **Current education expenditure, primary (% of total expenditure in primary public institutions):**  68%"
      ],
      "text/plain": [
       "<IPython.core.display.Markdown object>"
      ]
     },
     "metadata": {},
     "output_type": "display_data"
    },
    {
     "data": {
      "text/markdown": [
       " **People using at least basic drinking water services (% of population):**  6%"
      ],
      "text/plain": [
       "<IPython.core.display.Markdown object>"
      ]
     },
     "metadata": {},
     "output_type": "display_data"
    },
    {
     "data": {
      "text/markdown": [
       " **People using at least basic sanitation services (% of population):**  8%"
      ],
      "text/plain": [
       "<IPython.core.display.Markdown object>"
      ]
     },
     "metadata": {},
     "output_type": "display_data"
    },
    {
     "data": {
      "text/markdown": [
       " **Nurses and midwives (per 1,000 people):**  54%"
      ],
      "text/plain": [
       "<IPython.core.display.Markdown object>"
      ]
     },
     "metadata": {},
     "output_type": "display_data"
    },
    {
     "data": {
      "text/markdown": [
       " **Physicians (per 1,000 people):**  64%"
      ],
      "text/plain": [
       "<IPython.core.display.Markdown object>"
      ]
     },
     "metadata": {},
     "output_type": "display_data"
    },
    {
     "data": {
      "text/markdown": [
       " **Births attended by skilled health staff (% of total):**  59%"
      ],
      "text/plain": [
       "<IPython.core.display.Markdown object>"
      ]
     },
     "metadata": {},
     "output_type": "display_data"
    },
    {
     "data": {
      "text/markdown": [
       " **Prevalence of undernourishment (% of population):**  21%"
      ],
      "text/plain": [
       "<IPython.core.display.Markdown object>"
      ]
     },
     "metadata": {},
     "output_type": "display_data"
    },
    {
     "data": {
      "text/markdown": [
       " **Prevalence of severe food insecurity in the population (%):**  52%"
      ],
      "text/plain": [
       "<IPython.core.display.Markdown object>"
      ]
     },
     "metadata": {},
     "output_type": "display_data"
    },
    {
     "data": {
      "text/markdown": [
       " **Prevalence of moderate or severe food insecurity in the population (%):**  52%"
      ],
      "text/plain": [
       "<IPython.core.display.Markdown object>"
      ]
     },
     "metadata": {},
     "output_type": "display_data"
    },
    {
     "data": {
      "text/markdown": [
       " **Adolescent fertility rate (births per 1,000 women ages 15-19):**  9%"
      ],
      "text/plain": [
       "<IPython.core.display.Markdown object>"
      ]
     },
     "metadata": {},
     "output_type": "display_data"
    },
    {
     "data": {
      "text/markdown": [
       " **Adolescents out of school (% of lower secondary school age):**  40%"
      ],
      "text/plain": [
       "<IPython.core.display.Markdown object>"
      ]
     },
     "metadata": {},
     "output_type": "display_data"
    },
    {
     "data": {
      "text/markdown": [
       " **Current health expenditure per capita (current US$):**  12%"
      ],
      "text/plain": [
       "<IPython.core.display.Markdown object>"
      ]
     },
     "metadata": {},
     "output_type": "display_data"
    },
    {
     "data": {
      "text/markdown": [
       " **Fertility rate, total (births per woman):**  7%"
      ],
      "text/plain": [
       "<IPython.core.display.Markdown object>"
      ]
     },
     "metadata": {},
     "output_type": "display_data"
    },
    {
     "data": {
      "text/markdown": [
       " **Immunization, measles (% of children ages 12-23 months):**  10%"
      ],
      "text/plain": [
       "<IPython.core.display.Markdown object>"
      ]
     },
     "metadata": {},
     "output_type": "display_data"
    },
    {
     "data": {
      "text/markdown": [
       " **Life expectancy at birth, female (years):**  8%"
      ],
      "text/plain": [
       "<IPython.core.display.Markdown object>"
      ]
     },
     "metadata": {},
     "output_type": "display_data"
    },
    {
     "data": {
      "text/markdown": [
       " **Life expectancy at birth, male (years):**  8%"
      ],
      "text/plain": [
       "<IPython.core.display.Markdown object>"
      ]
     },
     "metadata": {},
     "output_type": "display_data"
    },
    {
     "data": {
      "text/markdown": [
       " **Life expectancy at birth, total (years):**  8%"
      ],
      "text/plain": [
       "<IPython.core.display.Markdown object>"
      ]
     },
     "metadata": {},
     "output_type": "display_data"
    },
    {
     "data": {
      "text/markdown": [
       " **Mortality rate, infant (per 1,000 live births):**  9%"
      ],
      "text/plain": [
       "<IPython.core.display.Markdown object>"
      ]
     },
     "metadata": {},
     "output_type": "display_data"
    },
    {
     "data": {
      "text/markdown": [
       " **Mortality rate, infant, male (per 1,000 live births):**  9%"
      ],
      "text/plain": [
       "<IPython.core.display.Markdown object>"
      ]
     },
     "metadata": {},
     "output_type": "display_data"
    },
    {
     "data": {
      "text/markdown": [
       " **Mortality rate, infant, female (per 1,000 live births):**  9%"
      ],
      "text/plain": [
       "<IPython.core.display.Markdown object>"
      ]
     },
     "metadata": {},
     "output_type": "display_data"
    },
    {
     "data": {
      "text/markdown": [
       " **Mortality rate, under-5 (per 1,000 live births):**  9%"
      ],
      "text/plain": [
       "<IPython.core.display.Markdown object>"
      ]
     },
     "metadata": {},
     "output_type": "display_data"
    },
    {
     "data": {
      "text/markdown": [
       " **Mortality rate, under-5, female (per 1,000 live births):**  9%"
      ],
      "text/plain": [
       "<IPython.core.display.Markdown object>"
      ]
     },
     "metadata": {},
     "output_type": "display_data"
    },
    {
     "data": {
      "text/markdown": [
       " **Mortality rate, under-5, male (per 1,000 live births):**  9%"
      ],
      "text/plain": [
       "<IPython.core.display.Markdown object>"
      ]
     },
     "metadata": {},
     "output_type": "display_data"
    },
    {
     "data": {
      "text/markdown": [
       " **Prevalence of anemia among children (% of children ages 6-59 months):**  11%"
      ],
      "text/plain": [
       "<IPython.core.display.Markdown object>"
      ]
     },
     "metadata": {},
     "output_type": "display_data"
    },
    {
     "data": {
      "text/markdown": [
       " **Prevalence of stunting, height for age (modeled estimate, % of children under 5):**  25%"
      ],
      "text/plain": [
       "<IPython.core.display.Markdown object>"
      ]
     },
     "metadata": {},
     "output_type": "display_data"
    },
    {
     "data": {
      "text/markdown": [
       " **Prevalence of overweight (modeled estimate, % of children under 5):**  25%"
      ],
      "text/plain": [
       "<IPython.core.display.Markdown object>"
      ]
     },
     "metadata": {},
     "output_type": "display_data"
    },
    {
     "data": {
      "text/markdown": [
       " **Children out of school (% of primary school age):**  48%"
      ],
      "text/plain": [
       "<IPython.core.display.Markdown object>"
      ]
     },
     "metadata": {},
     "output_type": "display_data"
    },
    {
     "data": {
      "text/markdown": [
       " **Children out of school, primary:**  49%"
      ],
      "text/plain": [
       "<IPython.core.display.Markdown object>"
      ]
     },
     "metadata": {},
     "output_type": "display_data"
    },
    {
     "data": {
      "text/markdown": [
       " **Compulsory education, duration (years):**  8%"
      ],
      "text/plain": [
       "<IPython.core.display.Markdown object>"
      ]
     },
     "metadata": {},
     "output_type": "display_data"
    },
    {
     "data": {
      "text/markdown": [
       " **Lower secondary school starting age (years):**  21%"
      ],
      "text/plain": [
       "<IPython.core.display.Markdown object>"
      ]
     },
     "metadata": {},
     "output_type": "display_data"
    },
    {
     "data": {
      "text/markdown": [
       " **Primary school starting age (years):**  21%"
      ],
      "text/plain": [
       "<IPython.core.display.Markdown object>"
      ]
     },
     "metadata": {},
     "output_type": "display_data"
    },
    {
     "data": {
      "text/markdown": [
       " **Probability of dying among adolescents ages 10-14 years (per 1,000):**  9%"
      ],
      "text/plain": [
       "<IPython.core.display.Markdown object>"
      ]
     },
     "metadata": {},
     "output_type": "display_data"
    },
    {
     "data": {
      "text/markdown": [
       " **Probability of dying among adolescents ages 15-19 years (per 1,000):**  9%"
      ],
      "text/plain": [
       "<IPython.core.display.Markdown object>"
      ]
     },
     "metadata": {},
     "output_type": "display_data"
    },
    {
     "data": {
      "text/markdown": [
       " **Probability of dying among children ages 5-9 years (per 1,000):**  9%"
      ],
      "text/plain": [
       "<IPython.core.display.Markdown object>"
      ]
     },
     "metadata": {},
     "output_type": "display_data"
    },
    {
     "data": {
      "text/markdown": [
       " **School enrollment, preprimary (% gross):**  27%"
      ],
      "text/plain": [
       "<IPython.core.display.Markdown object>"
      ]
     },
     "metadata": {},
     "output_type": "display_data"
    },
    {
     "data": {
      "text/markdown": [
       " **School enrollment, primary (% gross):**  27%"
      ],
      "text/plain": [
       "<IPython.core.display.Markdown object>"
      ]
     },
     "metadata": {},
     "output_type": "display_data"
    },
    {
     "data": {
      "text/markdown": [
       " **School enrollment, secondary (% gross):**  36%"
      ],
      "text/plain": [
       "<IPython.core.display.Markdown object>"
      ]
     },
     "metadata": {},
     "output_type": "display_data"
    },
    {
     "data": {
      "text/markdown": [
       " **Preprimary education, duration (years):**  7%"
      ],
      "text/plain": [
       "<IPython.core.display.Markdown object>"
      ]
     },
     "metadata": {},
     "output_type": "display_data"
    },
    {
     "data": {
      "text/markdown": [
       " **Primary education, duration (years):**  3%"
      ],
      "text/plain": [
       "<IPython.core.display.Markdown object>"
      ]
     },
     "metadata": {},
     "output_type": "display_data"
    },
    {
     "data": {
      "text/markdown": [
       " **Population ages 0-14 (% of total population):**  9%"
      ],
      "text/plain": [
       "<IPython.core.display.Markdown object>"
      ]
     },
     "metadata": {},
     "output_type": "display_data"
    }
   ],
   "source": [
    "for i in indicators:\n",
    "    pct_missing = np.mean(i[\"2018\"].isnull())\n",
    "    printmd(f\" **{i.Indicator[0]}:**  {round(pct_missing*100)}%\")\n",
    "\n"
   ]
  },
  {
   "cell_type": "code",
   "execution_count": null,
   "id": "c87ada70",
   "metadata": {},
   "outputs": [],
   "source": [
    "for col in cooking_tech.columns:\n",
    "    print(col)"
   ]
  },
  {
   "cell_type": "code",
   "execution_count": null,
   "id": "2d66e9c0",
   "metadata": {},
   "outputs": [],
   "source": [
    "for col in cooking_tech.columns:\n",
    "    pct_missing = np.mean(cooking_tech[col].isnull())\n",
    "    print(f\"{col} Percentage of data missing - {round(pct_missing*100)}%\")"
   ]
  },
  {
   "cell_type": "code",
   "execution_count": null,
   "id": "f41e26f0",
   "metadata": {},
   "outputs": [],
   "source": [
    "for col in access_electricity.columns:\n",
    "    pct_missing = np.mean(access_electricity[col].isnull())\n",
    "    print(f\"{col} Percentage of data missing - {round(pct_missing*100)}%\")"
   ]
  },
  {
   "cell_type": "code",
   "execution_count": null,
   "id": "f1a3816c",
   "metadata": {},
   "outputs": [],
   "source": [
    "for col in income_per_capita.columns:\n",
    "    pct_missing = np.mean(income_per_capita[col].isnull())\n",
    "    print(f\"{col} Percentage of data missing - {round(pct_missing*100)}%\")"
   ]
  },
  {
   "cell_type": "code",
   "execution_count": null,
   "id": "2830eba5",
   "metadata": {},
   "outputs": [],
   "source": [
    "for col in adolescent_fertility_rate.columns:\n",
    "    pct_missing = np.mean(adolescent_fertility_rate[col].isnull())\n",
    "    print(f\"{col} Percentage of data missing - {round(pct_missing*100)}%\")"
   ]
  },
  {
   "cell_type": "code",
   "execution_count": null,
   "id": "3bc4a678",
   "metadata": {},
   "outputs": [],
   "source": [
    "for col in adolescents_out_of_school.columns:\n",
    "    pct_missing = np.mean(adolescents_out_of_school[col].isnull())\n",
    "    print(f\"{col} Percentage of data missing - {round(pct_missing*100)}%\")"
   ]
  },
  {
   "cell_type": "code",
   "execution_count": null,
   "id": "e4e96e96",
   "metadata": {},
   "outputs": [],
   "source": [
    "for col in children_out_of_school.columns:\n",
    "    pct_missing = np.mean(children_out_of_school[col].isnull())\n",
    "    print(f\"{col} Percentage of data missing - {round(pct_missing*100)}%\")"
   ]
  },
  {
   "cell_type": "code",
   "execution_count": null,
   "id": "798c4239",
   "metadata": {},
   "outputs": [],
   "source": [
    "for col in children_out_of_school_prim.columns:\n",
    "    pct_missing = np.mean(children_out_of_school_prim[col].isnull())\n",
    "    print(f\"{col} Percentage of data missing - {round(pct_missing*100)}%\")"
   ]
  },
  {
   "cell_type": "code",
   "execution_count": null,
   "id": "22165a32",
   "metadata": {},
   "outputs": [],
   "source": [
    "for col in compulsory_education.columns:\n",
    "    pct_missing = np.mean(compulsory_education[col].isnull())\n",
    "    print(f\"{col} Percentage of data missing - {round(pct_missing*100)}%\")"
   ]
  },
  {
   "cell_type": "code",
   "execution_count": null,
   "id": "4c226f02",
   "metadata": {},
   "outputs": [],
   "source": [
    "for col in education_expenditure_prim.columns:\n",
    "    pct_missing = np.mean(education_expenditure_prim[col].isnull())\n",
    "    print(f\"{col} Percentage of data missing - {round(pct_missing*100)}%\")\n"
   ]
  },
  {
   "cell_type": "code",
   "execution_count": null,
   "id": "47afb0c4",
   "metadata": {},
   "outputs": [],
   "source": [
    "for col in health_expediture.columns:\n",
    "    pct_missing = np.mean(health_expediture[col].isnull())\n",
    "    print(f\"{col} Percentage of data missing - {round(pct_missing*100)}%\")\n"
   ]
  },
  {
   "cell_type": "code",
   "execution_count": null,
   "id": "ef9a57c9",
   "metadata": {},
   "outputs": [],
   "source": [
    "for col in fertility_rate.columns:\n",
    "    pct_missing = np.mean(fertility_rate[col].isnull())\n",
    "    print(f\"{col} Percentage of data missing - {round(pct_missing*100)}%\")\n"
   ]
  },
  {
   "cell_type": "code",
   "execution_count": null,
   "id": "3146ef61",
   "metadata": {},
   "outputs": [],
   "source": [
    "for col in measles_immunizaton.columns:\n",
    "    pct_missing = np.mean(measles_immunizaton[col].isnull())\n",
    "    print(f\"{col} Percentage of data missing - {round(pct_missing*100)}%\")"
   ]
  },
  {
   "cell_type": "code",
   "execution_count": null,
   "id": "03b2a694",
   "metadata": {},
   "outputs": [],
   "source": [
    "for col in life_expectancy_at_birth_female.columns:\n",
    "    pct_missing = np.mean(life_expectancy_at_birth_female[col].isnull())\n",
    "    print(f\"{col} Percentage of data missing - {round(pct_missing*100)}%\")"
   ]
  },
  {
   "cell_type": "code",
   "execution_count": null,
   "id": "cd2c0be2",
   "metadata": {},
   "outputs": [],
   "source": [
    "for col in life_expectancy_at_birth_male.columns:\n",
    "    pct_missing = np.mean(life_expectancy_at_birth_male[col].isnull())\n",
    "    print(f\"{col} Percentage of data missing - {round(pct_missing*100)}%\")"
   ]
  },
  {
   "cell_type": "code",
   "execution_count": null,
   "id": "19dcfa7c",
   "metadata": {},
   "outputs": [],
   "source": [
    "for col in life_expectancy_at_birth_total.columns:\n",
    "    pct_missing = np.mean(life_expectancy_at_birth_total[col].isnull())\n",
    "    print(f\"{col} Percentage of data missing - {round(pct_missing*100)}%\")\n",
    "    "
   ]
  },
  {
   "cell_type": "code",
   "execution_count": null,
   "id": "e8af9aa0",
   "metadata": {},
   "outputs": [],
   "source": [
    "for col in lower_secondary_school_starting_age.columns:\n",
    "    pct_missing = np.mean(lower_secondary_school_starting_age[col].isnull())\n",
    "    print(f\"{col} Percentage of data missing - {round(pct_missing*100)}%\")\n",
    "    "
   ]
  },
  {
   "cell_type": "code",
   "execution_count": null,
   "id": "33e7a07d",
   "metadata": {},
   "outputs": [],
   "source": [
    "for col in mortality_rate_infant.columns:\n",
    "    pct_missing = np.mean(mortality_rate_infant[col].isnull())\n",
    "    print(f\"{col} Percentage of data missing - {round(pct_missing*100)}%\")\n",
    "    "
   ]
  },
  {
   "cell_type": "code",
   "execution_count": null,
   "id": "f0f54ad1",
   "metadata": {},
   "outputs": [],
   "source": [
    "for col in mortality_rate_infant_male.columns:\n",
    "    pct_missing = np.mean(mortality_rate_infant[col].isnull())\n",
    "    print(f\"{col} Percentage of data missing - {round(pct_missing*100)}%\")\n",
    "    "
   ]
  },
  {
   "cell_type": "code",
   "execution_count": null,
   "id": "e89381e3",
   "metadata": {},
   "outputs": [],
   "source": [
    "for col in mortality_rate_infant_female.columns:\n",
    "    pct_missing = np.mean(mortality_rate_infant[col].isnull())\n",
    "    print(f\"{col} Percentage of data missing - {round(pct_missing*100)}%\")\n",
    "    "
   ]
  },
  {
   "cell_type": "code",
   "execution_count": null,
   "id": "67b68a8c",
   "metadata": {},
   "outputs": [],
   "source": [
    "for col in mortality_rate_under_5.columns:\n",
    "    pct_missing = np.mean(mortality_rate_under_5[col].isnull())\n",
    "    print(f\"{col} Percentage of data missing - {round(pct_missing*100)}%\")"
   ]
  },
  {
   "cell_type": "code",
   "execution_count": null,
   "id": "99f83e4b",
   "metadata": {},
   "outputs": [],
   "source": [
    "for col in mortality_rate_under_5_female.columns:\n",
    "    pct_missing = np.mean(mortality_rate_under_5_female[col].isnull())\n",
    "    print(f\"{col} Percentage of data missing - {round(pct_missing*100)}%\")"
   ]
  },
  {
   "cell_type": "code",
   "execution_count": null,
   "id": "b51185e0",
   "metadata": {},
   "outputs": [],
   "source": [
    "for col in mortality_rate_under_5_male.columns:\n",
    "    pct_missing = np.mean(mortality_rate_under_5_male[col].isnull())\n",
    "    print(f\"{col} Percentage of data missing - {round(pct_missing*100)}%\")"
   ]
  },
  {
   "cell_type": "code",
   "execution_count": null,
   "id": "b3dde22a",
   "metadata": {},
   "outputs": [],
   "source": [
    "\n",
    "for col in nurses_midwives.columns:\n",
    "    pct_missing = np.mean(nurses_midwives[col].isnull())\n",
    "    print(f\"{col} Percentage of data missing - {round(pct_missing*100)}%\")"
   ]
  },
  {
   "cell_type": "code",
   "execution_count": null,
   "id": "b1a1966f",
   "metadata": {},
   "outputs": [],
   "source": [
    "for col in drinking_water_services.columns:\n",
    "    pct_missing = np.mean(drinking_water_services[col].isnull())\n",
    "    print(f\"{col} Percentage of data missing - {round(pct_missing*100)}%\")"
   ]
  },
  {
   "cell_type": "code",
   "execution_count": null,
   "id": "891a1875",
   "metadata": {},
   "outputs": [],
   "source": [
    "for col in basic_sanitation.columns:\n",
    "    pct_missing = np.mean(basic_sanitation[col].isnull())\n",
    "    print(f\"{col} Percentage of data missing - {round(pct_missing*100)}%\")"
   ]
  },
  {
   "cell_type": "code",
   "execution_count": null,
   "id": "5a7fd1e7",
   "metadata": {},
   "outputs": [],
   "source": [
    "for col in physicians.columns:\n",
    "    pct_missing = np.mean(physicians[col].isnull())\n",
    "    print(f\"{col} Percentage of data missing - {round(pct_missing*100)}%\")"
   ]
  },
  {
   "attachments": {},
   "cell_type": "markdown",
   "id": "cef2ae72",
   "metadata": {},
   "source": [
    "\n",
    "### Some additional indicators to consider: \n",
    "\n",
    "Population ages 00-04, female (% of female population)\n",
    "\n",
    "Population ages 00-04, male (% of male population)\n",
    "\n",
    "Population ages 0-14 (% of total population)\n",
    "\n",
    "\n",
    "Population ages 0-14, female (% of female population)\n",
    "\n",
    "Population ages 0-14, male (% of male population)\n",
    "\n",
    "Population ages 05-09, female (% of female population)\n",
    "\n",
    "Population ages 05-09, male (% of male population)\n",
    "\n",
    "Population ages 10-14, female (% of female population)\n",
    "\n",
    "Population ages 10-14, male (% of male population)\n",
    "\n",
    "Population ages 15-19, female (% of female population)\n",
    "\n",
    "Population ages 15-19, male (% of male population)\n",
    "\n",
    "\n",
    "Preprimary education, duration (years)\n",
    "\n",
    "Prevalence of anemia among children (% of children ages 6-59 months)\n",
    "\n",
    "Prevalence of moderate or severe food insecurity in the population (%)\n",
    "\n",
    "Prevalence of overweight (modeled estimate, % of children under 5)\n",
    "\n",
    "Prevalence of overweight, weight for height (% of children under 5)\n",
    "\n",
    "Prevalence of severe food insecurity in the population (%)\n",
    "\n",
    "Prevalence of stunting, height for age (modeled estimate, % of children under 5)\n",
    "\n",
    "Prevalence of undernourishment (% of population)\n",
    "\n",
    "Primary education, duration (years)\n",
    "\n",
    "Primary education, pupils\n",
    "\n",
    "Primary school starting age (years)\n",
    "\n",
    "Probability of dying among adolescents ages 10-14 years (per 1,000)\n",
    "\n",
    "Probability of dying among adolescents ages 15-19 years (per 1,000)\n",
    "\n",
    "Probability of dying among children ages 5-9 years (per 1,000)\n",
    "\n",
    "\n",
    "Gross or net of these: \n",
    "\n",
    "School enrollment, preprimary (% gross)\n",
    "\n",
    "School enrollment, preprimary, female (% gross)\n",
    "\n",
    "School enrollment, preprimary, male (% gross)\n",
    "\n",
    "School enrollment, primary (% gross)\n",
    "\n",
    "School enrollment, primary (% net)\n",
    "\n",
    "School enrollment, primary (gross), gender parity index (GPI)\n",
    "\n",
    "School enrollment, primary, female (% gross)\n",
    "\n",
    "School enrollment, primary, female (% net)\n",
    "\n",
    "School enrollment, primary, male (% gross)\n",
    "\n",
    "School enrollment, primary, male (% net)\n",
    "\n",
    "School enrollment, primary, private (% of total primary)\n",
    "\n",
    "School enrollment, secondary (% gross)\n",
    "\n",
    "School enrollment, secondary (% net)\n",
    "\n",
    "School enrollment, secondary, female (% gross)\n",
    "\n",
    "School enrollment, secondary, female (% net)\n",
    "\n",
    "School enrollment, secondary, male (% gross)\n",
    "\n",
    "School enrollment, secondary, male (% net)\n"
   ]
  },
  {
   "cell_type": "code",
   "execution_count": null,
   "id": "b1a56e25",
   "metadata": {},
   "outputs": [],
   "source": []
  },
  {
   "cell_type": "code",
   "execution_count": null,
   "id": "ce4aa7f3",
   "metadata": {},
   "outputs": [],
   "source": []
  },
  {
   "cell_type": "code",
   "execution_count": null,
   "id": "fdec1a16",
   "metadata": {},
   "outputs": [],
   "source": []
  }
 ],
 "metadata": {
  "kernelspec": {
   "display_name": "Python 3 (ipykernel)",
   "language": "python",
   "name": "python3"
  },
  "language_info": {
   "codemirror_mode": {
    "name": "ipython",
    "version": 3
   },
   "file_extension": ".py",
   "mimetype": "text/x-python",
   "name": "python",
   "nbconvert_exporter": "python",
   "pygments_lexer": "ipython3",
   "version": "3.9.7"
  },
  "varInspector": {
   "cols": {
    "lenName": 16,
    "lenType": 16,
    "lenVar": 40
   },
   "kernels_config": {
    "python": {
     "delete_cmd_postfix": "",
     "delete_cmd_prefix": "del ",
     "library": "var_list.py",
     "varRefreshCmd": "print(var_dic_list())"
    },
    "r": {
     "delete_cmd_postfix": ") ",
     "delete_cmd_prefix": "rm(",
     "library": "var_list.r",
     "varRefreshCmd": "cat(var_dic_list()) "
    }
   },
   "types_to_exclude": [
    "module",
    "function",
    "builtin_function_or_method",
    "instance",
    "_Feature"
   ],
   "window_display": false
  }
 },
 "nbformat": 4,
 "nbformat_minor": 5
}
