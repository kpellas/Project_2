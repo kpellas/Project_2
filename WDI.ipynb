{
 "cells": [
  {
   "cell_type": "code",
   "execution_count": 1,
   "id": "7535b36b",
   "metadata": {},
   "outputs": [],
   "source": [
    "import pandas as pd\n",
    "from pandas import json_normalize\n",
    "import matplotlib.pyplot as plt\n",
    "import seaborn as sns\n",
    "import numpy as np\n",
    "import json\n",
    "from pprint import pprint\n",
    "import pymongo\n",
    "from bson.json_util import dumps, loads\n",
    "\n",
    "\n",
    "from IPython.display import Markdown, display\n",
    "from IPython.display import HTML\n",
    "\n",
    "def printmd(string):\n",
    "    display(Markdown(string))\n"
   ]
  },
  {
   "cell_type": "code",
   "execution_count": 2,
   "id": "7fa3a7e2",
   "metadata": {
    "scrolled": true
   },
   "outputs": [],
   "source": [
    "all_data = pd.read_csv(\"./data/WDIData.csv\")"
   ]
  },
  {
   "cell_type": "code",
   "execution_count": 3,
   "id": "034992eb",
   "metadata": {},
   "outputs": [
    {
     "data": {
      "text/html": [
       "<div>\n",
       "<style scoped>\n",
       "    .dataframe tbody tr th:only-of-type {\n",
       "        vertical-align: middle;\n",
       "    }\n",
       "\n",
       "    .dataframe tbody tr th {\n",
       "        vertical-align: top;\n",
       "    }\n",
       "\n",
       "    .dataframe thead th {\n",
       "        text-align: right;\n",
       "    }\n",
       "</style>\n",
       "<table border=\"1\" class=\"dataframe\">\n",
       "  <thead>\n",
       "    <tr style=\"text-align: right;\">\n",
       "      <th></th>\n",
       "      <th>Country Name</th>\n",
       "      <th>Country Code</th>\n",
       "      <th>Indicator Name</th>\n",
       "      <th>Indicator Code</th>\n",
       "      <th>1960</th>\n",
       "      <th>1961</th>\n",
       "      <th>1962</th>\n",
       "      <th>1963</th>\n",
       "      <th>1964</th>\n",
       "      <th>1965</th>\n",
       "      <th>...</th>\n",
       "      <th>2012</th>\n",
       "      <th>2013</th>\n",
       "      <th>2014</th>\n",
       "      <th>2015</th>\n",
       "      <th>2016</th>\n",
       "      <th>2017</th>\n",
       "      <th>2018</th>\n",
       "      <th>2019</th>\n",
       "      <th>2020</th>\n",
       "      <th>Unnamed: 65</th>\n",
       "    </tr>\n",
       "  </thead>\n",
       "  <tbody>\n",
       "    <tr>\n",
       "      <th>0</th>\n",
       "      <td>Africa Eastern and Southern</td>\n",
       "      <td>AFE</td>\n",
       "      <td>Access to clean fuels and technologies for coo...</td>\n",
       "      <td>EG.CFT.ACCS.ZS</td>\n",
       "      <td>NaN</td>\n",
       "      <td>NaN</td>\n",
       "      <td>NaN</td>\n",
       "      <td>NaN</td>\n",
       "      <td>NaN</td>\n",
       "      <td>NaN</td>\n",
       "      <td>...</td>\n",
       "      <td>16.511262</td>\n",
       "      <td>16.966046</td>\n",
       "      <td>17.411737</td>\n",
       "      <td>17.808234</td>\n",
       "      <td>18.179760</td>\n",
       "      <td>18.558937</td>\n",
       "      <td>18.949636</td>\n",
       "      <td>19.333168</td>\n",
       "      <td>NaN</td>\n",
       "      <td>NaN</td>\n",
       "    </tr>\n",
       "    <tr>\n",
       "      <th>1</th>\n",
       "      <td>Africa Eastern and Southern</td>\n",
       "      <td>AFE</td>\n",
       "      <td>Access to electricity (% of population)</td>\n",
       "      <td>EG.ELC.ACCS.ZS</td>\n",
       "      <td>NaN</td>\n",
       "      <td>NaN</td>\n",
       "      <td>NaN</td>\n",
       "      <td>NaN</td>\n",
       "      <td>NaN</td>\n",
       "      <td>NaN</td>\n",
       "      <td>...</td>\n",
       "      <td>32.224027</td>\n",
       "      <td>32.046478</td>\n",
       "      <td>31.323579</td>\n",
       "      <td>33.312163</td>\n",
       "      <td>38.380433</td>\n",
       "      <td>39.754201</td>\n",
       "      <td>42.168241</td>\n",
       "      <td>43.640661</td>\n",
       "      <td>NaN</td>\n",
       "      <td>NaN</td>\n",
       "    </tr>\n",
       "    <tr>\n",
       "      <th>2</th>\n",
       "      <td>Africa Eastern and Southern</td>\n",
       "      <td>AFE</td>\n",
       "      <td>Access to electricity, rural (% of rural popul...</td>\n",
       "      <td>EG.ELC.ACCS.RU.ZS</td>\n",
       "      <td>NaN</td>\n",
       "      <td>NaN</td>\n",
       "      <td>NaN</td>\n",
       "      <td>NaN</td>\n",
       "      <td>NaN</td>\n",
       "      <td>NaN</td>\n",
       "      <td>...</td>\n",
       "      <td>20.525353</td>\n",
       "      <td>19.461383</td>\n",
       "      <td>17.790698</td>\n",
       "      <td>16.553470</td>\n",
       "      <td>23.907897</td>\n",
       "      <td>24.624725</td>\n",
       "      <td>26.813900</td>\n",
       "      <td>28.841150</td>\n",
       "      <td>NaN</td>\n",
       "      <td>NaN</td>\n",
       "    </tr>\n",
       "    <tr>\n",
       "      <th>3</th>\n",
       "      <td>Africa Eastern and Southern</td>\n",
       "      <td>AFE</td>\n",
       "      <td>Access to electricity, urban (% of urban popul...</td>\n",
       "      <td>EG.ELC.ACCS.UR.ZS</td>\n",
       "      <td>NaN</td>\n",
       "      <td>NaN</td>\n",
       "      <td>NaN</td>\n",
       "      <td>NaN</td>\n",
       "      <td>NaN</td>\n",
       "      <td>NaN</td>\n",
       "      <td>...</td>\n",
       "      <td>66.303599</td>\n",
       "      <td>66.496010</td>\n",
       "      <td>65.828988</td>\n",
       "      <td>66.926692</td>\n",
       "      <td>68.722184</td>\n",
       "      <td>71.085418</td>\n",
       "      <td>71.994933</td>\n",
       "      <td>73.589886</td>\n",
       "      <td>NaN</td>\n",
       "      <td>NaN</td>\n",
       "    </tr>\n",
       "    <tr>\n",
       "      <th>4</th>\n",
       "      <td>Africa Eastern and Southern</td>\n",
       "      <td>AFE</td>\n",
       "      <td>Account ownership at a financial institution o...</td>\n",
       "      <td>FX.OWN.TOTL.ZS</td>\n",
       "      <td>NaN</td>\n",
       "      <td>NaN</td>\n",
       "      <td>NaN</td>\n",
       "      <td>NaN</td>\n",
       "      <td>NaN</td>\n",
       "      <td>NaN</td>\n",
       "      <td>...</td>\n",
       "      <td>NaN</td>\n",
       "      <td>NaN</td>\n",
       "      <td>NaN</td>\n",
       "      <td>NaN</td>\n",
       "      <td>NaN</td>\n",
       "      <td>NaN</td>\n",
       "      <td>NaN</td>\n",
       "      <td>NaN</td>\n",
       "      <td>NaN</td>\n",
       "      <td>NaN</td>\n",
       "    </tr>\n",
       "    <tr>\n",
       "      <th>...</th>\n",
       "      <td>...</td>\n",
       "      <td>...</td>\n",
       "      <td>...</td>\n",
       "      <td>...</td>\n",
       "      <td>...</td>\n",
       "      <td>...</td>\n",
       "      <td>...</td>\n",
       "      <td>...</td>\n",
       "      <td>...</td>\n",
       "      <td>...</td>\n",
       "      <td>...</td>\n",
       "      <td>...</td>\n",
       "      <td>...</td>\n",
       "      <td>...</td>\n",
       "      <td>...</td>\n",
       "      <td>...</td>\n",
       "      <td>...</td>\n",
       "      <td>...</td>\n",
       "      <td>...</td>\n",
       "      <td>...</td>\n",
       "      <td>...</td>\n",
       "    </tr>\n",
       "    <tr>\n",
       "      <th>383833</th>\n",
       "      <td>Zimbabwe</td>\n",
       "      <td>ZWE</td>\n",
       "      <td>Women who believe a husband is justified in be...</td>\n",
       "      <td>SG.VAW.REFU.ZS</td>\n",
       "      <td>NaN</td>\n",
       "      <td>NaN</td>\n",
       "      <td>NaN</td>\n",
       "      <td>NaN</td>\n",
       "      <td>NaN</td>\n",
       "      <td>NaN</td>\n",
       "      <td>...</td>\n",
       "      <td>NaN</td>\n",
       "      <td>NaN</td>\n",
       "      <td>NaN</td>\n",
       "      <td>14.500000</td>\n",
       "      <td>NaN</td>\n",
       "      <td>NaN</td>\n",
       "      <td>NaN</td>\n",
       "      <td>NaN</td>\n",
       "      <td>NaN</td>\n",
       "      <td>NaN</td>\n",
       "    </tr>\n",
       "    <tr>\n",
       "      <th>383834</th>\n",
       "      <td>Zimbabwe</td>\n",
       "      <td>ZWE</td>\n",
       "      <td>Women who were first married by age 15 (% of w...</td>\n",
       "      <td>SP.M15.2024.FE.ZS</td>\n",
       "      <td>NaN</td>\n",
       "      <td>NaN</td>\n",
       "      <td>NaN</td>\n",
       "      <td>NaN</td>\n",
       "      <td>NaN</td>\n",
       "      <td>NaN</td>\n",
       "      <td>...</td>\n",
       "      <td>NaN</td>\n",
       "      <td>NaN</td>\n",
       "      <td>NaN</td>\n",
       "      <td>3.700000</td>\n",
       "      <td>NaN</td>\n",
       "      <td>NaN</td>\n",
       "      <td>NaN</td>\n",
       "      <td>5.418352</td>\n",
       "      <td>NaN</td>\n",
       "      <td>NaN</td>\n",
       "    </tr>\n",
       "    <tr>\n",
       "      <th>383835</th>\n",
       "      <td>Zimbabwe</td>\n",
       "      <td>ZWE</td>\n",
       "      <td>Women who were first married by age 18 (% of w...</td>\n",
       "      <td>SP.M18.2024.FE.ZS</td>\n",
       "      <td>NaN</td>\n",
       "      <td>NaN</td>\n",
       "      <td>NaN</td>\n",
       "      <td>NaN</td>\n",
       "      <td>NaN</td>\n",
       "      <td>NaN</td>\n",
       "      <td>...</td>\n",
       "      <td>NaN</td>\n",
       "      <td>NaN</td>\n",
       "      <td>33.500000</td>\n",
       "      <td>32.400000</td>\n",
       "      <td>NaN</td>\n",
       "      <td>NaN</td>\n",
       "      <td>NaN</td>\n",
       "      <td>33.658057</td>\n",
       "      <td>NaN</td>\n",
       "      <td>NaN</td>\n",
       "    </tr>\n",
       "    <tr>\n",
       "      <th>383836</th>\n",
       "      <td>Zimbabwe</td>\n",
       "      <td>ZWE</td>\n",
       "      <td>Women's share of population ages 15+ living wi...</td>\n",
       "      <td>SH.DYN.AIDS.FE.ZS</td>\n",
       "      <td>NaN</td>\n",
       "      <td>NaN</td>\n",
       "      <td>NaN</td>\n",
       "      <td>NaN</td>\n",
       "      <td>NaN</td>\n",
       "      <td>NaN</td>\n",
       "      <td>...</td>\n",
       "      <td>58.900000</td>\n",
       "      <td>59.200000</td>\n",
       "      <td>59.400000</td>\n",
       "      <td>59.500000</td>\n",
       "      <td>59.700000</td>\n",
       "      <td>59.900000</td>\n",
       "      <td>60.000000</td>\n",
       "      <td>60.200000</td>\n",
       "      <td>60.4</td>\n",
       "      <td>NaN</td>\n",
       "    </tr>\n",
       "    <tr>\n",
       "      <th>383837</th>\n",
       "      <td>Zimbabwe</td>\n",
       "      <td>ZWE</td>\n",
       "      <td>Young people (ages 15-24) newly infected with HIV</td>\n",
       "      <td>SH.HIV.INCD.YG</td>\n",
       "      <td>NaN</td>\n",
       "      <td>NaN</td>\n",
       "      <td>NaN</td>\n",
       "      <td>NaN</td>\n",
       "      <td>NaN</td>\n",
       "      <td>NaN</td>\n",
       "      <td>...</td>\n",
       "      <td>20000.000000</td>\n",
       "      <td>18000.000000</td>\n",
       "      <td>17000.000000</td>\n",
       "      <td>15000.000000</td>\n",
       "      <td>14000.000000</td>\n",
       "      <td>12000.000000</td>\n",
       "      <td>9700.000000</td>\n",
       "      <td>9600.000000</td>\n",
       "      <td>7500.0</td>\n",
       "      <td>NaN</td>\n",
       "    </tr>\n",
       "  </tbody>\n",
       "</table>\n",
       "<p>383838 rows × 66 columns</p>\n",
       "</div>"
      ],
      "text/plain": [
       "                       Country Name Country Code  \\\n",
       "0       Africa Eastern and Southern          AFE   \n",
       "1       Africa Eastern and Southern          AFE   \n",
       "2       Africa Eastern and Southern          AFE   \n",
       "3       Africa Eastern and Southern          AFE   \n",
       "4       Africa Eastern and Southern          AFE   \n",
       "...                             ...          ...   \n",
       "383833                     Zimbabwe          ZWE   \n",
       "383834                     Zimbabwe          ZWE   \n",
       "383835                     Zimbabwe          ZWE   \n",
       "383836                     Zimbabwe          ZWE   \n",
       "383837                     Zimbabwe          ZWE   \n",
       "\n",
       "                                           Indicator Name     Indicator Code  \\\n",
       "0       Access to clean fuels and technologies for coo...     EG.CFT.ACCS.ZS   \n",
       "1                 Access to electricity (% of population)     EG.ELC.ACCS.ZS   \n",
       "2       Access to electricity, rural (% of rural popul...  EG.ELC.ACCS.RU.ZS   \n",
       "3       Access to electricity, urban (% of urban popul...  EG.ELC.ACCS.UR.ZS   \n",
       "4       Account ownership at a financial institution o...     FX.OWN.TOTL.ZS   \n",
       "...                                                   ...                ...   \n",
       "383833  Women who believe a husband is justified in be...     SG.VAW.REFU.ZS   \n",
       "383834  Women who were first married by age 15 (% of w...  SP.M15.2024.FE.ZS   \n",
       "383835  Women who were first married by age 18 (% of w...  SP.M18.2024.FE.ZS   \n",
       "383836  Women's share of population ages 15+ living wi...  SH.DYN.AIDS.FE.ZS   \n",
       "383837  Young people (ages 15-24) newly infected with HIV     SH.HIV.INCD.YG   \n",
       "\n",
       "        1960  1961  1962  1963  1964  1965  ...          2012          2013  \\\n",
       "0        NaN   NaN   NaN   NaN   NaN   NaN  ...     16.511262     16.966046   \n",
       "1        NaN   NaN   NaN   NaN   NaN   NaN  ...     32.224027     32.046478   \n",
       "2        NaN   NaN   NaN   NaN   NaN   NaN  ...     20.525353     19.461383   \n",
       "3        NaN   NaN   NaN   NaN   NaN   NaN  ...     66.303599     66.496010   \n",
       "4        NaN   NaN   NaN   NaN   NaN   NaN  ...           NaN           NaN   \n",
       "...      ...   ...   ...   ...   ...   ...  ...           ...           ...   \n",
       "383833   NaN   NaN   NaN   NaN   NaN   NaN  ...           NaN           NaN   \n",
       "383834   NaN   NaN   NaN   NaN   NaN   NaN  ...           NaN           NaN   \n",
       "383835   NaN   NaN   NaN   NaN   NaN   NaN  ...           NaN           NaN   \n",
       "383836   NaN   NaN   NaN   NaN   NaN   NaN  ...     58.900000     59.200000   \n",
       "383837   NaN   NaN   NaN   NaN   NaN   NaN  ...  20000.000000  18000.000000   \n",
       "\n",
       "                2014          2015          2016          2017         2018  \\\n",
       "0          17.411737     17.808234     18.179760     18.558937    18.949636   \n",
       "1          31.323579     33.312163     38.380433     39.754201    42.168241   \n",
       "2          17.790698     16.553470     23.907897     24.624725    26.813900   \n",
       "3          65.828988     66.926692     68.722184     71.085418    71.994933   \n",
       "4                NaN           NaN           NaN           NaN          NaN   \n",
       "...              ...           ...           ...           ...          ...   \n",
       "383833           NaN     14.500000           NaN           NaN          NaN   \n",
       "383834           NaN      3.700000           NaN           NaN          NaN   \n",
       "383835     33.500000     32.400000           NaN           NaN          NaN   \n",
       "383836     59.400000     59.500000     59.700000     59.900000    60.000000   \n",
       "383837  17000.000000  15000.000000  14000.000000  12000.000000  9700.000000   \n",
       "\n",
       "               2019    2020  Unnamed: 65  \n",
       "0         19.333168     NaN          NaN  \n",
       "1         43.640661     NaN          NaN  \n",
       "2         28.841150     NaN          NaN  \n",
       "3         73.589886     NaN          NaN  \n",
       "4               NaN     NaN          NaN  \n",
       "...             ...     ...          ...  \n",
       "383833          NaN     NaN          NaN  \n",
       "383834     5.418352     NaN          NaN  \n",
       "383835    33.658057     NaN          NaN  \n",
       "383836    60.200000    60.4          NaN  \n",
       "383837  9600.000000  7500.0          NaN  \n",
       "\n",
       "[383838 rows x 66 columns]"
      ]
     },
     "execution_count": 3,
     "metadata": {},
     "output_type": "execute_result"
    }
   ],
   "source": [
    "all_data"
   ]
  },
  {
   "cell_type": "code",
   "execution_count": 4,
   "id": "92c64678",
   "metadata": {},
   "outputs": [
    {
     "data": {
      "text/html": [
       "<div>\n",
       "<style scoped>\n",
       "    .dataframe tbody tr th:only-of-type {\n",
       "        vertical-align: middle;\n",
       "    }\n",
       "\n",
       "    .dataframe tbody tr th {\n",
       "        vertical-align: top;\n",
       "    }\n",
       "\n",
       "    .dataframe thead th {\n",
       "        text-align: right;\n",
       "    }\n",
       "</style>\n",
       "<table border=\"1\" class=\"dataframe\">\n",
       "  <thead>\n",
       "    <tr style=\"text-align: right;\">\n",
       "      <th></th>\n",
       "      <th>Country Name</th>\n",
       "      <th>Indicator Name</th>\n",
       "      <th>1960</th>\n",
       "      <th>1970</th>\n",
       "      <th>1980</th>\n",
       "      <th>1990</th>\n",
       "      <th>2000</th>\n",
       "      <th>2010</th>\n",
       "      <th>2011</th>\n",
       "      <th>2012</th>\n",
       "      <th>2013</th>\n",
       "      <th>2014</th>\n",
       "      <th>2015</th>\n",
       "      <th>2016</th>\n",
       "      <th>2017</th>\n",
       "      <th>2018</th>\n",
       "      <th>2019</th>\n",
       "      <th>2020</th>\n",
       "    </tr>\n",
       "  </thead>\n",
       "  <tbody>\n",
       "    <tr>\n",
       "      <th>0</th>\n",
       "      <td>Africa Eastern and Southern</td>\n",
       "      <td>Access to clean fuels and technologies for coo...</td>\n",
       "      <td>NaN</td>\n",
       "      <td>NaN</td>\n",
       "      <td>NaN</td>\n",
       "      <td>NaN</td>\n",
       "      <td>11.469146</td>\n",
       "      <td>15.658101</td>\n",
       "      <td>16.097824</td>\n",
       "      <td>16.511262</td>\n",
       "      <td>16.966046</td>\n",
       "      <td>17.411737</td>\n",
       "      <td>17.808234</td>\n",
       "      <td>18.179760</td>\n",
       "      <td>18.558937</td>\n",
       "      <td>18.949636</td>\n",
       "      <td>19.333168</td>\n",
       "      <td>NaN</td>\n",
       "    </tr>\n",
       "    <tr>\n",
       "      <th>1</th>\n",
       "      <td>Africa Eastern and Southern</td>\n",
       "      <td>Access to electricity (% of population)</td>\n",
       "      <td>NaN</td>\n",
       "      <td>NaN</td>\n",
       "      <td>NaN</td>\n",
       "      <td>NaN</td>\n",
       "      <td>20.086007</td>\n",
       "      <td>28.233373</td>\n",
       "      <td>28.381836</td>\n",
       "      <td>32.224027</td>\n",
       "      <td>32.046478</td>\n",
       "      <td>31.323579</td>\n",
       "      <td>33.312163</td>\n",
       "      <td>38.380433</td>\n",
       "      <td>39.754201</td>\n",
       "      <td>42.168241</td>\n",
       "      <td>43.640661</td>\n",
       "      <td>NaN</td>\n",
       "    </tr>\n",
       "    <tr>\n",
       "      <th>2</th>\n",
       "      <td>Africa Eastern and Southern</td>\n",
       "      <td>Access to electricity, rural (% of rural popul...</td>\n",
       "      <td>NaN</td>\n",
       "      <td>NaN</td>\n",
       "      <td>NaN</td>\n",
       "      <td>NaN</td>\n",
       "      <td>8.491610</td>\n",
       "      <td>16.241064</td>\n",
       "      <td>15.295950</td>\n",
       "      <td>20.525353</td>\n",
       "      <td>19.461383</td>\n",
       "      <td>17.790698</td>\n",
       "      <td>16.553470</td>\n",
       "      <td>23.907897</td>\n",
       "      <td>24.624725</td>\n",
       "      <td>26.813900</td>\n",
       "      <td>28.841150</td>\n",
       "      <td>NaN</td>\n",
       "    </tr>\n",
       "    <tr>\n",
       "      <th>3</th>\n",
       "      <td>Africa Eastern and Southern</td>\n",
       "      <td>Access to electricity, urban (% of urban popul...</td>\n",
       "      <td>NaN</td>\n",
       "      <td>NaN</td>\n",
       "      <td>NaN</td>\n",
       "      <td>NaN</td>\n",
       "      <td>56.083452</td>\n",
       "      <td>62.520824</td>\n",
       "      <td>65.470615</td>\n",
       "      <td>66.303599</td>\n",
       "      <td>66.496010</td>\n",
       "      <td>65.828988</td>\n",
       "      <td>66.926692</td>\n",
       "      <td>68.722184</td>\n",
       "      <td>71.085418</td>\n",
       "      <td>71.994933</td>\n",
       "      <td>73.589886</td>\n",
       "      <td>NaN</td>\n",
       "    </tr>\n",
       "    <tr>\n",
       "      <th>4</th>\n",
       "      <td>Africa Eastern and Southern</td>\n",
       "      <td>Account ownership at a financial institution o...</td>\n",
       "      <td>NaN</td>\n",
       "      <td>NaN</td>\n",
       "      <td>NaN</td>\n",
       "      <td>NaN</td>\n",
       "      <td>NaN</td>\n",
       "      <td>NaN</td>\n",
       "      <td>NaN</td>\n",
       "      <td>NaN</td>\n",
       "      <td>NaN</td>\n",
       "      <td>NaN</td>\n",
       "      <td>NaN</td>\n",
       "      <td>NaN</td>\n",
       "      <td>NaN</td>\n",
       "      <td>NaN</td>\n",
       "      <td>NaN</td>\n",
       "      <td>NaN</td>\n",
       "    </tr>\n",
       "    <tr>\n",
       "      <th>...</th>\n",
       "      <td>...</td>\n",
       "      <td>...</td>\n",
       "      <td>...</td>\n",
       "      <td>...</td>\n",
       "      <td>...</td>\n",
       "      <td>...</td>\n",
       "      <td>...</td>\n",
       "      <td>...</td>\n",
       "      <td>...</td>\n",
       "      <td>...</td>\n",
       "      <td>...</td>\n",
       "      <td>...</td>\n",
       "      <td>...</td>\n",
       "      <td>...</td>\n",
       "      <td>...</td>\n",
       "      <td>...</td>\n",
       "      <td>...</td>\n",
       "      <td>...</td>\n",
       "    </tr>\n",
       "    <tr>\n",
       "      <th>383833</th>\n",
       "      <td>Zimbabwe</td>\n",
       "      <td>Women who believe a husband is justified in be...</td>\n",
       "      <td>NaN</td>\n",
       "      <td>NaN</td>\n",
       "      <td>NaN</td>\n",
       "      <td>NaN</td>\n",
       "      <td>NaN</td>\n",
       "      <td>NaN</td>\n",
       "      <td>16.900000</td>\n",
       "      <td>NaN</td>\n",
       "      <td>NaN</td>\n",
       "      <td>NaN</td>\n",
       "      <td>14.500000</td>\n",
       "      <td>NaN</td>\n",
       "      <td>NaN</td>\n",
       "      <td>NaN</td>\n",
       "      <td>NaN</td>\n",
       "      <td>NaN</td>\n",
       "    </tr>\n",
       "    <tr>\n",
       "      <th>383834</th>\n",
       "      <td>Zimbabwe</td>\n",
       "      <td>Women who were first married by age 15 (% of w...</td>\n",
       "      <td>NaN</td>\n",
       "      <td>NaN</td>\n",
       "      <td>NaN</td>\n",
       "      <td>NaN</td>\n",
       "      <td>NaN</td>\n",
       "      <td>NaN</td>\n",
       "      <td>3.900000</td>\n",
       "      <td>NaN</td>\n",
       "      <td>NaN</td>\n",
       "      <td>NaN</td>\n",
       "      <td>3.700000</td>\n",
       "      <td>NaN</td>\n",
       "      <td>NaN</td>\n",
       "      <td>NaN</td>\n",
       "      <td>5.418352</td>\n",
       "      <td>NaN</td>\n",
       "    </tr>\n",
       "    <tr>\n",
       "      <th>383835</th>\n",
       "      <td>Zimbabwe</td>\n",
       "      <td>Women who were first married by age 18 (% of w...</td>\n",
       "      <td>NaN</td>\n",
       "      <td>NaN</td>\n",
       "      <td>NaN</td>\n",
       "      <td>NaN</td>\n",
       "      <td>NaN</td>\n",
       "      <td>NaN</td>\n",
       "      <td>30.500000</td>\n",
       "      <td>NaN</td>\n",
       "      <td>NaN</td>\n",
       "      <td>33.500000</td>\n",
       "      <td>32.400000</td>\n",
       "      <td>NaN</td>\n",
       "      <td>NaN</td>\n",
       "      <td>NaN</td>\n",
       "      <td>33.658057</td>\n",
       "      <td>NaN</td>\n",
       "    </tr>\n",
       "    <tr>\n",
       "      <th>383836</th>\n",
       "      <td>Zimbabwe</td>\n",
       "      <td>Women's share of population ages 15+ living wi...</td>\n",
       "      <td>NaN</td>\n",
       "      <td>NaN</td>\n",
       "      <td>NaN</td>\n",
       "      <td>53.2</td>\n",
       "      <td>56.300000</td>\n",
       "      <td>58.500000</td>\n",
       "      <td>58.700000</td>\n",
       "      <td>58.900000</td>\n",
       "      <td>59.200000</td>\n",
       "      <td>59.400000</td>\n",
       "      <td>59.500000</td>\n",
       "      <td>59.700000</td>\n",
       "      <td>59.900000</td>\n",
       "      <td>60.000000</td>\n",
       "      <td>60.200000</td>\n",
       "      <td>60.4</td>\n",
       "    </tr>\n",
       "    <tr>\n",
       "      <th>383837</th>\n",
       "      <td>Zimbabwe</td>\n",
       "      <td>Young people (ages 15-24) newly infected with HIV</td>\n",
       "      <td>NaN</td>\n",
       "      <td>NaN</td>\n",
       "      <td>NaN</td>\n",
       "      <td>73000.0</td>\n",
       "      <td>41000.000000</td>\n",
       "      <td>24000.000000</td>\n",
       "      <td>22000.000000</td>\n",
       "      <td>20000.000000</td>\n",
       "      <td>18000.000000</td>\n",
       "      <td>17000.000000</td>\n",
       "      <td>15000.000000</td>\n",
       "      <td>14000.000000</td>\n",
       "      <td>12000.000000</td>\n",
       "      <td>9700.000000</td>\n",
       "      <td>9600.000000</td>\n",
       "      <td>7500.0</td>\n",
       "    </tr>\n",
       "  </tbody>\n",
       "</table>\n",
       "<p>383838 rows × 18 columns</p>\n",
       "</div>"
      ],
      "text/plain": [
       "                       Country Name  \\\n",
       "0       Africa Eastern and Southern   \n",
       "1       Africa Eastern and Southern   \n",
       "2       Africa Eastern and Southern   \n",
       "3       Africa Eastern and Southern   \n",
       "4       Africa Eastern and Southern   \n",
       "...                             ...   \n",
       "383833                     Zimbabwe   \n",
       "383834                     Zimbabwe   \n",
       "383835                     Zimbabwe   \n",
       "383836                     Zimbabwe   \n",
       "383837                     Zimbabwe   \n",
       "\n",
       "                                           Indicator Name  1960  1970  1980  \\\n",
       "0       Access to clean fuels and technologies for coo...   NaN   NaN   NaN   \n",
       "1                 Access to electricity (% of population)   NaN   NaN   NaN   \n",
       "2       Access to electricity, rural (% of rural popul...   NaN   NaN   NaN   \n",
       "3       Access to electricity, urban (% of urban popul...   NaN   NaN   NaN   \n",
       "4       Account ownership at a financial institution o...   NaN   NaN   NaN   \n",
       "...                                                   ...   ...   ...   ...   \n",
       "383833  Women who believe a husband is justified in be...   NaN   NaN   NaN   \n",
       "383834  Women who were first married by age 15 (% of w...   NaN   NaN   NaN   \n",
       "383835  Women who were first married by age 18 (% of w...   NaN   NaN   NaN   \n",
       "383836  Women's share of population ages 15+ living wi...   NaN   NaN   NaN   \n",
       "383837  Young people (ages 15-24) newly infected with HIV   NaN   NaN   NaN   \n",
       "\n",
       "           1990          2000          2010          2011          2012  \\\n",
       "0           NaN     11.469146     15.658101     16.097824     16.511262   \n",
       "1           NaN     20.086007     28.233373     28.381836     32.224027   \n",
       "2           NaN      8.491610     16.241064     15.295950     20.525353   \n",
       "3           NaN     56.083452     62.520824     65.470615     66.303599   \n",
       "4           NaN           NaN           NaN           NaN           NaN   \n",
       "...         ...           ...           ...           ...           ...   \n",
       "383833      NaN           NaN           NaN     16.900000           NaN   \n",
       "383834      NaN           NaN           NaN      3.900000           NaN   \n",
       "383835      NaN           NaN           NaN     30.500000           NaN   \n",
       "383836     53.2     56.300000     58.500000     58.700000     58.900000   \n",
       "383837  73000.0  41000.000000  24000.000000  22000.000000  20000.000000   \n",
       "\n",
       "                2013          2014          2015          2016          2017  \\\n",
       "0          16.966046     17.411737     17.808234     18.179760     18.558937   \n",
       "1          32.046478     31.323579     33.312163     38.380433     39.754201   \n",
       "2          19.461383     17.790698     16.553470     23.907897     24.624725   \n",
       "3          66.496010     65.828988     66.926692     68.722184     71.085418   \n",
       "4                NaN           NaN           NaN           NaN           NaN   \n",
       "...              ...           ...           ...           ...           ...   \n",
       "383833           NaN           NaN     14.500000           NaN           NaN   \n",
       "383834           NaN           NaN      3.700000           NaN           NaN   \n",
       "383835           NaN     33.500000     32.400000           NaN           NaN   \n",
       "383836     59.200000     59.400000     59.500000     59.700000     59.900000   \n",
       "383837  18000.000000  17000.000000  15000.000000  14000.000000  12000.000000   \n",
       "\n",
       "               2018         2019    2020  \n",
       "0         18.949636    19.333168     NaN  \n",
       "1         42.168241    43.640661     NaN  \n",
       "2         26.813900    28.841150     NaN  \n",
       "3         71.994933    73.589886     NaN  \n",
       "4               NaN          NaN     NaN  \n",
       "...             ...          ...     ...  \n",
       "383833          NaN          NaN     NaN  \n",
       "383834          NaN     5.418352     NaN  \n",
       "383835          NaN    33.658057     NaN  \n",
       "383836    60.000000    60.200000    60.4  \n",
       "383837  9700.000000  9600.000000  7500.0  \n",
       "\n",
       "[383838 rows x 18 columns]"
      ]
     },
     "execution_count": 4,
     "metadata": {},
     "output_type": "execute_result"
    }
   ],
   "source": [
    "snapshot = all_data[[\"Country Name\", \"Indicator Name\", \"1960\", \"1970\", \"1980\", \"1990\", \"2000\",  \"2010\", \"2011\", \"2012\", \"2013\", \"2014\", \"2015\", \"2016\", \"2017\", \"2018\", \"2019\", \"2020\"]]\n",
    "snapshot"
   ]
  },
  {
   "cell_type": "code",
   "execution_count": 5,
   "id": "eefb9322",
   "metadata": {},
   "outputs": [
    {
     "data": {
      "image/png": "[encoded data removed]",
      "text/plain": [
       "<Figure size 1440x720 with 2 Axes>"
      ]
     },
     "metadata": {
      "needs_background": "light"
     },
     "output_type": "display_data"
    }
   ],
   "source": [
    "fig, ax = plt.subplots(figsize=(20,10))     \n",
    "cols = snapshot.columns \n",
    "colours = ['#1f497d', '#ffffff'] \n",
    "sns.heatmap(snapshot[cols].isnull(), cmap=sns.color_palette(colours))\n",
    "ax.set_xticklabels(ax.get_xticklabels(),rotation =80)\n",
    "ax.set_title(\"Missing Data Distribution\")\n",
    "\n",
    "plt.show()"
   ]
  },
  {
   "cell_type": "markdown",
   "id": "c18ce3e3",
   "metadata": {},
   "source": [
    "### 2018 - Seems to have the most data for the more current years"
   ]
  },
  {
   "cell_type": "code",
   "execution_count": 6,
   "id": "21645e8a",
   "metadata": {},
   "outputs": [
    {
     "data": {
      "text/markdown": [
       "**Number of countries:** 266"
      ],
      "text/plain": [
       "<IPython.core.display.Markdown object>"
      ]
     },
     "metadata": {},
     "output_type": "display_data"
    }
   ],
   "source": [
    "data_2018 = all_data[[\"Country Name\", \"Indicator Name\", \"2018\"]]\n",
    "data = data_2018.rename(columns={'Country Name': 'Country', 'Indicator Name': 'Indicator', '2018': \"Data\"})\n",
    "num_countries = data.Country.nunique()\n",
    "printmd(f\"**Number of countries:** {num_countries}\")"
   ]
  },
  {
   "cell_type": "code",
   "execution_count": 7,
   "id": "dd054c93",
   "metadata": {},
   "outputs": [],
   "source": [
    "data = data.loc[data['Country'] != \"Africa Eastern and Southern\"]\n",
    "data = data.loc[data['Country'] != \"Africa Western and Central\"]\n",
    "data = data.loc[data['Country'] != \"Arab World\"]\n",
    "data = data.loc[data['Country'] != \"Caribbean small states\"]\n",
    "data = data.loc[data['Country'] != \"Central Europe and the Baltics\"]\n",
    "\n",
    "data = data.loc[data['Country'] != \"Early-demographic dividend\"]\n",
    "\n",
    "data = data.loc[data['Country'] != \"East Asia & Pacific\"]\n",
    "data = data.loc[data['Country'] != \"East Asia & Pacific (excluding high income)\"]\n",
    "data = data.loc[data['Country'] != \"East Asia & Pacific (IDA & IBRD countries)\"]\n",
    "data = data.loc[data['Country'] != \"Euro area\"]\n",
    "data = data.loc[data['Country'] != \"Europe & Central Asia\"]\n",
    "data = data.loc[data['Country'] != \"Europe & Central Asia (excluding high income)\"]\n",
    "data = data.loc[data['Country'] != \"Europe & Central Asia (IDA & IBRD countries)\"]\n",
    "data = data.loc[data['Country'] != \"European Union\"]\n",
    "data = data.loc[data['Country'] != \"Fragile and conflict affected situations\"]\n",
    "data = data.loc[data['Country'] != \"Heavily indebted poor countries (HIPC)\"]\n",
    "data = data.loc[data['Country'] != \"High income\"]\n",
    "data = data.loc[data['Country'] != \"IBRD only\"]\n",
    "data = data.loc[data['Country'] != \"IDA & IBRD total\"]\n",
    "data = data.loc[data['Country'] != \"IDA blend\"]\n",
    "data = data.loc[data['Country'] != \"IDA only\"]\n",
    "data = data.loc[data['Country'] != \"IDA total\"]\n",
    "data = data.loc[data['Country'] != \"Late-demographic dividend\"]\n",
    "data = data.loc[data['Country'] != \"Latin America & Caribbean\"]\n",
    "data = data.loc[data['Country'] != \"Latin America & Caribbean (excluding high income)\"]\n",
    "data = data.loc[data['Country'] != \"Latin America & the Caribbean (IDA & IBRD countries)\"]\n",
    "data = data.loc[data['Country'] != \"Least developed countries: UN classification\"]\n",
    "data = data.loc[data['Country'] != \"Low & middle income\"]\n",
    "data = data.loc[data['Country'] != \"Low income\"]\n",
    "data = data.loc[data['Country'] != \"Lower middle income\"]\n",
    "data = data.loc[data['Country'] != \"Middle East & North Africa\"]\n",
    "data = data.loc[data['Country'] != \"Middle East & North Africa (excluding high income)\"]\n",
    "data = data.loc[data['Country'] != \"Middle East & North Africa (IDA & IBRD countries)\"]\n",
    "data = data.loc[data['Country'] != \"Middle income\"]\n",
    "data = data.loc[data['Country'] != \"North America\"]\n",
    "data = data.loc[data['Country'] != \"Not classified\"]\n",
    "data = data.loc[data['Country'] != \"OECD members\"]\n",
    "data = data.loc[data['Country'] != \"Other small states\"]\n",
    "data = data.loc[data['Country'] != \"Pacific island small states\"]\n",
    "data = data.loc[data['Country'] != \"Post-demographic dividend\"]\n",
    "data = data.loc[data['Country'] != \"Pre-demographic dividend\"]\n",
    "data = data.loc[data['Country'] != \"Small states\"]\n",
    "data = data.loc[data['Country'] != \"South Asia\"]\n",
    "data = data.loc[data['Country'] != \"South Asia (IDA & IBRD)\"]\n",
    "data = data.loc[data['Country'] != \"Sub-Saharan Africa\"]\n",
    "data = data.loc[data['Country'] != \"Sub-Saharan Africa (excluding high income)\"]\n",
    "data = data.loc[data['Country'] != \"Sub-Saharan Africa (IDA & IBRD countries)\"]\n",
    "data = data.loc[data['Country'] != \"Upper middle income\"]\n",
    "data = data.loc[data['Country'] != \"World\"]"
   ]
  },
  {
   "cell_type": "markdown",
   "id": "a21b3199",
   "metadata": {},
   "source": [
    "### Possible indicators for us to use in the project.\n",
    "\n",
    "For specifics about the indicators, go here: \n",
    "https://datacatalog.worldbank.org/search/dataset/0037712/World-Development-Indicators\n",
    "\n",
    "I tried to use indicators that were percentage of population or per 1,000, so it's relative rather than absolute."
   ]
  },
  {
   "cell_type": "code",
   "execution_count": 8,
   "id": "5f784930",
   "metadata": {
    "scrolled": false
   },
   "outputs": [],
   "source": [
    "# Economic and access (water, electricity, fuel for cooking) indicators \n",
    "cooking_tech =  data[data.Indicator.str.contains(\"cooking\")].reset_index(drop=True)\n",
    "access_electricity = data[data.Indicator.str.contains(\"Access to electricity \\(% of population\\)\")].reset_index(drop=True)\n",
    "income_per_capita = data[data.Indicator.str.contains(\"net national income per capita\")].reset_index(drop=True)\n",
    "education_expenditure_prim = data[data.Indicator.str.contains(\"Current education expenditure, primary\")].reset_index(drop=True)\n",
    "drinking_water_services  = data[data.Indicator.str.contains(\"People using at least basic drinking water services \\(% of population\")].reset_index(drop=True)\n",
    "basic_sanitation = data[data.Indicator.str.contains(\"People using at least basic sanitation services \\(% of population\\)\")].reset_index(drop=True)\n",
    "nurses_midwives = data[data.Indicator.str.contains(\"Nurses and midwives\")].reset_index(drop=True)\n",
    "physicians = data[data.Indicator.str.contains(\"Physicians\")].reset_index(drop=True)\n",
    "undernourishment = data[data.Indicator.str.contains(\"Prevalence of undernourishment \\(% of population\")].reset_index(drop=True)\n",
    "sev_food_insecurity_all = data[data.Indicator.str.contains(\"Prevalence of severe food insecurity in the population\")].reset_index(drop=True)\n",
    "mod_sev_food_insecurity_all = data[data.Indicator.str.contains(\"moderate or severe food insecurity in the population\")].reset_index(drop=True)\n",
    "births_skilled_staff = data[data.Indicator.str.contains(\"Births attended by skilled health staff \\(% of total\\)\")].reset_index(drop=True)\n",
    "children_unpaid_work = data[data.Indicator.str.contains(\"Children in employment, unpaid family workers \\(% of children in employment, ages 7-14\\)\")].reset_index(drop=True)\n",
    "income = data[data.Indicator.str.contains(\"Adjusted net national income per capita \\(current US\")].reset_index(drop=True)\n",
    "out_of_pocket_expense = data[data.Indicator.str.contains(\"Out-of-pocket expenditure per capita \\(current US\\$\\)\")].reset_index(drop=True)\n",
    "\n",
    "# health indicators\n",
    "adolescent_fertility_rate = data[data.Indicator.str.contains(\"Adolescent fertility rate\")].reset_index(drop=True)\n",
    "adolescents_out_of_school = data[data.Indicator.str.contains(\"Adolescents out of school \\(% of lower secondary school age\\)\")].reset_index(drop=True)\n",
    "health_expediture = data[data.Indicator.str.contains(\"Current health expenditure per capita \\(current\")].reset_index(drop=True)\n",
    "fertility_rate = data[data.Indicator.str.contains(\"Fertility rate, total \\(births per woman\\)\")].reset_index(drop=True)\n",
    "measles_immunization = data[data.Indicator.str.contains(\"measles\")].reset_index(drop=True)\n",
    "life_expectancy_at_birth_female = data[data.Indicator.str.contains(\"birth, female\")].reset_index(drop=True)\n",
    "life_expectancy_at_birth_male = data[data.Indicator.str.contains(\"birth, male\")].reset_index(drop=True)\n",
    "life_expectancy_at_birth_total = data[data.Indicator.str.contains(\"birth, total\")].reset_index(drop=True)\n",
    "mortality_rate_infant = data[data.Indicator.str.contains(\"Mortality rate, infant \\(\")].reset_index(drop=True)\n",
    "mortality_rate_infant_male = data[data.Indicator.str.contains(\"Mortality rate, infant, male\")].reset_index(drop=True)\n",
    "mortality_rate_infant_female = data[data.Indicator.str.contains(\"Mortality rate, infant, female\")].reset_index(drop=True)\n",
    "mortality_rate_under_5 = data[data.Indicator.str.contains(\"Mortality rate, under-5 \\(\")].reset_index(drop=True)\n",
    "mortality_rate_under_5_female = data[data.Indicator.str.contains(\"Mortality rate, under-5, female\")].reset_index(drop=True)\n",
    "mortality_rate_under_5_male = data[data.Indicator.str.contains(\"Mortality rate, under-5, male\")].reset_index(drop=True)\n",
    "anemia_children = data[data.Indicator.str.contains(\"anemia among childre\")].reset_index(drop=True)\n",
    "stunting_height_age = data[data.Indicator.str.contains(\"Prevalence of stunting, height for age \\(modeled\")].reset_index(drop=True)\n",
    "overweight_children_under_5 = data[data.Indicator.str.contains(\"overweight \\(modeled\")].reset_index(drop=True)\n",
    "\n",
    "\n",
    "# education\n",
    "children_out_of_school = data[data.Indicator.str.contains(\"Children out of school\")].reset_index(drop=True)\n",
    "children_out_of_school_prim = data[data.Indicator.str.contains(\"Children out of school, primary\")].reset_index(drop=True)\n",
    "compulsory_education = data[data.Indicator.str.contains(\"Compulsory education\")].reset_index(drop=True)\n",
    "lower_secondary_school_starting_age = data[data.Indicator.str.contains(\"secondary school starting age\")].reset_index(drop=True)\n",
    "primary_edu_duration = data[data.Indicator.str.contains(\"Primary education, duration \\(years]\\)\")].reset_index(drop=True)\n",
    "primary_starting_age = data[data.Indicator.str.contains(\"Primary school starting age \\(years\\)\")].reset_index(drop=True)\n",
    "probability_dying_10_14 = data[data.Indicator.str.contains(\"Probability of dying among adolescents ages 10-14 years \\(per 1,000\\)\")].reset_index(drop=True)\n",
    "probability_dying_15_19 = data[data.Indicator.str.contains(\"Probability of dying among adolescents ages 15-19 years \\(per 1,000\\)\")].reset_index(drop=True)\n",
    "probability_dying_5_9 = data[data.Indicator.str.contains(\"Probability of dying among children ages 5-9 years \\(per 1,000\\)\")].reset_index(drop=True)\n",
    "school_enrollment_preprimary =data[data.Indicator.str.contains(\"School enrollment, preprimary \\(% gross\\)\")].reset_index(drop=True)\n",
    "\n",
    "school_enrollment_primary = data[data.Indicator.str.contains(\"School enrollment, primary \\(% gross\\)\")].reset_index(drop=True)\n",
    "school_enrollment_secondary = data[data.Indicator.str.contains(\"School enrollment, secondary \\(% gross\\)\")].reset_index(drop=True)\n",
    "\n",
    "pre_primary_duration = data[data.Indicator.str.contains(\"Preprimary education, duration \\(years\\)\")].reset_index(drop=True)\n",
    "primary_ed_duration = data[data.Indicator.str.contains(\"Primary education, duration\")].reset_index(drop=True)\n",
    "children_not_in_school_primary = data[data.Indicator.str.contains(\"Children out of school \\(% of primary school age\\)\")].reset_index(drop=True)\n",
    "\n",
    "\n",
    "# Additional Indicators we can add are listed at the bottom\n",
    "population_14 = data[data.Indicator.str.contains(\"Population ages 0-14 \\(% of total \")].reset_index(drop=True)\n",
    "\n"
   ]
  },
  {
   "cell_type": "markdown",
   "id": "2915e845",
   "metadata": {},
   "source": [
    "### How much data is missing per indicator\n",
    "\n",
    "Below I checked the output of each indicator to see what percentage of data is missing. For example, for \"Access to clearn fuels and technologies for cooking\" - (cooking_tech), there is no data for 11% of the countries in the dataset. I think a good line in the sand is to focus on indicators for which at least 20% of the countries have data. Thoughts? **There are a few that don't meet this criteria below.\n",
    "\n"
   ]
  },
  {
   "cell_type": "code",
   "execution_count": 9,
   "id": "afa13775",
   "metadata": {},
   "outputs": [],
   "source": [
    "# Economic and access (water, electricity, fuel for cooking) indicators \n",
    "indicators = [cooking_tech,\n",
    "    access_electricity,\n",
    "    income_per_capita,\n",
    "    education_expenditure_prim,\n",
    "    drinking_water_services,\n",
    "    basic_sanitation,\n",
    "    nurses_midwives,\n",
    "    physicians,\n",
    "    births_skilled_staff,\n",
    "    undernourishment,\n",
    "    sev_food_insecurity_all,\n",
    "    mod_sev_food_insecurity_all,\n",
    "    adolescent_fertility_rate,\n",
    "    adolescents_out_of_school,\n",
    "    health_expediture ,\n",
    "    fertility_rate ,\n",
    "    measles_immunization ,\n",
    "    life_expectancy_at_birth_female,\n",
    "    life_expectancy_at_birth_male, \n",
    "    life_expectancy_at_birth_total,\n",
    "    mortality_rate_infant,\n",
    "    mortality_rate_infant_male,\n",
    "    mortality_rate_infant_female,\n",
    "    mortality_rate_under_5,\n",
    "    mortality_rate_under_5_female,\n",
    "    mortality_rate_under_5_male,\n",
    "    anemia_children,\n",
    "    stunting_height_age,\n",
    "    overweight_children_under_5,\n",
    "    children_out_of_school,\n",
    "    children_out_of_school_prim ,\n",
    "    compulsory_education,\n",
    "    primary_starting_age,\n",
    "    probability_dying_10_14,\n",
    "    probability_dying_15_19,\n",
    "    probability_dying_5_9,\n",
    "    school_enrollment_preprimary,\n",
    "    school_enrollment_primary,\n",
    "    school_enrollment_secondary,\n",
    "    pre_primary_duration,\n",
    "    primary_ed_duration,\n",
    "    population_14,\n",
    "    children_not_in_school_primary,\n",
    "    children_unpaid_work,\n",
    "    income,\n",
    "    out_of_pocket_expense]\n",
    "\n"
   ]
  },
  {
   "cell_type": "code",
   "execution_count": 10,
   "id": "a4128475",
   "metadata": {
    "scrolled": false
   },
   "outputs": [
    {
     "data": {
      "text/markdown": [
       " **Access to clean fuels and technologies for cooking (% of population):**  13%"
      ],
      "text/plain": [
       "<IPython.core.display.Markdown object>"
      ]
     },
     "metadata": {},
     "output_type": "display_data"
    },
    {
     "data": {
      "text/markdown": [
       " **Access to electricity (% of population):**  0%"
      ],
      "text/plain": [
       "<IPython.core.display.Markdown object>"
      ]
     },
     "metadata": {},
     "output_type": "display_data"
    },
    {
     "data": {
      "text/markdown": [
       " **Adjusted net national income per capita (annual % growth):**  28%"
      ],
      "text/plain": [
       "<IPython.core.display.Markdown object>"
      ]
     },
     "metadata": {},
     "output_type": "display_data"
    },
    {
     "data": {
      "text/markdown": [
       " **Current education expenditure, primary (% of total expenditure in primary public institutions):**  67%"
      ],
      "text/plain": [
       "<IPython.core.display.Markdown object>"
      ]
     },
     "metadata": {},
     "output_type": "display_data"
    },
    {
     "data": {
      "text/markdown": [
       " **People using at least basic drinking water services (% of population):**  6%"
      ],
      "text/plain": [
       "<IPython.core.display.Markdown object>"
      ]
     },
     "metadata": {},
     "output_type": "display_data"
    },
    {
     "data": {
      "text/markdown": [
       " **People using at least basic sanitation services (% of population):**  9%"
      ],
      "text/plain": [
       "<IPython.core.display.Markdown object>"
      ]
     },
     "metadata": {},
     "output_type": "display_data"
    },
    {
     "data": {
      "text/markdown": [
       " **Nurses and midwives (per 1,000 people):**  43%"
      ],
      "text/plain": [
       "<IPython.core.display.Markdown object>"
      ]
     },
     "metadata": {},
     "output_type": "display_data"
    },
    {
     "data": {
      "text/markdown": [
       " **Physicians (per 1,000 people):**  56%"
      ],
      "text/plain": [
       "<IPython.core.display.Markdown object>"
      ]
     },
     "metadata": {},
     "output_type": "display_data"
    },
    {
     "data": {
      "text/markdown": [
       " **Births attended by skilled health staff (% of total):**  71%"
      ],
      "text/plain": [
       "<IPython.core.display.Markdown object>"
      ]
     },
     "metadata": {},
     "output_type": "display_data"
    },
    {
     "data": {
      "text/markdown": [
       " **Prevalence of undernourishment (% of population):**  26%"
      ],
      "text/plain": [
       "<IPython.core.display.Markdown object>"
      ]
     },
     "metadata": {},
     "output_type": "display_data"
    },
    {
     "data": {
      "text/markdown": [
       " **Prevalence of severe food insecurity in the population (%):**  50%"
      ],
      "text/plain": [
       "<IPython.core.display.Markdown object>"
      ]
     },
     "metadata": {},
     "output_type": "display_data"
    },
    {
     "data": {
      "text/markdown": [
       " **Prevalence of moderate or severe food insecurity in the population (%):**  50%"
      ],
      "text/plain": [
       "<IPython.core.display.Markdown object>"
      ]
     },
     "metadata": {},
     "output_type": "display_data"
    },
    {
     "data": {
      "text/markdown": [
       " **Adolescent fertility rate (births per 1,000 women ages 15-19):**  11%"
      ],
      "text/plain": [
       "<IPython.core.display.Markdown object>"
      ]
     },
     "metadata": {},
     "output_type": "display_data"
    },
    {
     "data": {
      "text/markdown": [
       " **Adolescents out of school (% of lower secondary school age):**  47%"
      ],
      "text/plain": [
       "<IPython.core.display.Markdown object>"
      ]
     },
     "metadata": {},
     "output_type": "display_data"
    },
    {
     "data": {
      "text/markdown": [
       " **Current health expenditure per capita (current US$):**  14%"
      ],
      "text/plain": [
       "<IPython.core.display.Markdown object>"
      ]
     },
     "metadata": {},
     "output_type": "display_data"
    },
    {
     "data": {
      "text/markdown": [
       " **Fertility rate, total (births per woman):**  8%"
      ],
      "text/plain": [
       "<IPython.core.display.Markdown object>"
      ]
     },
     "metadata": {},
     "output_type": "display_data"
    },
    {
     "data": {
      "text/markdown": [
       " **Immunization, measles (% of children ages 12-23 months):**  12%"
      ],
      "text/plain": [
       "<IPython.core.display.Markdown object>"
      ]
     },
     "metadata": {},
     "output_type": "display_data"
    },
    {
     "data": {
      "text/markdown": [
       " **Life expectancy at birth, female (years):**  9%"
      ],
      "text/plain": [
       "<IPython.core.display.Markdown object>"
      ]
     },
     "metadata": {},
     "output_type": "display_data"
    },
    {
     "data": {
      "text/markdown": [
       " **Life expectancy at birth, male (years):**  9%"
      ],
      "text/plain": [
       "<IPython.core.display.Markdown object>"
      ]
     },
     "metadata": {},
     "output_type": "display_data"
    },
    {
     "data": {
      "text/markdown": [
       " **Life expectancy at birth, total (years):**  9%"
      ],
      "text/plain": [
       "<IPython.core.display.Markdown object>"
      ]
     },
     "metadata": {},
     "output_type": "display_data"
    },
    {
     "data": {
      "text/markdown": [
       " **Mortality rate, infant (per 1,000 live births):**  11%"
      ],
      "text/plain": [
       "<IPython.core.display.Markdown object>"
      ]
     },
     "metadata": {},
     "output_type": "display_data"
    },
    {
     "data": {
      "text/markdown": [
       " **Mortality rate, infant, male (per 1,000 live births):**  11%"
      ],
      "text/plain": [
       "<IPython.core.display.Markdown object>"
      ]
     },
     "metadata": {},
     "output_type": "display_data"
    },
    {
     "data": {
      "text/markdown": [
       " **Mortality rate, infant, female (per 1,000 live births):**  11%"
      ],
      "text/plain": [
       "<IPython.core.display.Markdown object>"
      ]
     },
     "metadata": {},
     "output_type": "display_data"
    },
    {
     "data": {
      "text/markdown": [
       " **Mortality rate, under-5 (per 1,000 live births):**  11%"
      ],
      "text/plain": [
       "<IPython.core.display.Markdown object>"
      ]
     },
     "metadata": {},
     "output_type": "display_data"
    },
    {
     "data": {
      "text/markdown": [
       " **Mortality rate, under-5, female (per 1,000 live births):**  11%"
      ],
      "text/plain": [
       "<IPython.core.display.Markdown object>"
      ]
     },
     "metadata": {},
     "output_type": "display_data"
    },
    {
     "data": {
      "text/markdown": [
       " **Mortality rate, under-5, male (per 1,000 live births):**  11%"
      ],
      "text/plain": [
       "<IPython.core.display.Markdown object>"
      ]
     },
     "metadata": {},
     "output_type": "display_data"
    },
    {
     "data": {
      "text/markdown": [
       " **Prevalence of anemia among children (% of children ages 6-59 months):**  12%"
      ],
      "text/plain": [
       "<IPython.core.display.Markdown object>"
      ]
     },
     "metadata": {},
     "output_type": "display_data"
    },
    {
     "data": {
      "text/markdown": [
       " **Prevalence of stunting, height for age (modeled estimate, % of children under 5):**  29%"
      ],
      "text/plain": [
       "<IPython.core.display.Markdown object>"
      ]
     },
     "metadata": {},
     "output_type": "display_data"
    },
    {
     "data": {
      "text/markdown": [
       " **Prevalence of overweight (modeled estimate, % of children under 5):**  29%"
      ],
      "text/plain": [
       "<IPython.core.display.Markdown object>"
      ]
     },
     "metadata": {},
     "output_type": "display_data"
    },
    {
     "data": {
      "text/markdown": [
       " **Children out of school (% of primary school age):**  57%"
      ],
      "text/plain": [
       "<IPython.core.display.Markdown object>"
      ]
     },
     "metadata": {},
     "output_type": "display_data"
    },
    {
     "data": {
      "text/markdown": [
       " **Children out of school, primary:**  59%"
      ],
      "text/plain": [
       "<IPython.core.display.Markdown object>"
      ]
     },
     "metadata": {},
     "output_type": "display_data"
    },
    {
     "data": {
      "text/markdown": [
       " **Compulsory education, duration (years):**  9%"
      ],
      "text/plain": [
       "<IPython.core.display.Markdown object>"
      ]
     },
     "metadata": {},
     "output_type": "display_data"
    },
    {
     "data": {
      "text/markdown": [
       " **Primary school starting age (years):**  3%"
      ],
      "text/plain": [
       "<IPython.core.display.Markdown object>"
      ]
     },
     "metadata": {},
     "output_type": "display_data"
    },
    {
     "data": {
      "text/markdown": [
       " **Probability of dying among adolescents ages 10-14 years (per 1,000):**  11%"
      ],
      "text/plain": [
       "<IPython.core.display.Markdown object>"
      ]
     },
     "metadata": {},
     "output_type": "display_data"
    },
    {
     "data": {
      "text/markdown": [
       " **Probability of dying among adolescents ages 15-19 years (per 1,000):**  11%"
      ],
      "text/plain": [
       "<IPython.core.display.Markdown object>"
      ]
     },
     "metadata": {},
     "output_type": "display_data"
    },
    {
     "data": {
      "text/markdown": [
       " **Probability of dying among children ages 5-9 years (per 1,000):**  11%"
      ],
      "text/plain": [
       "<IPython.core.display.Markdown object>"
      ]
     },
     "metadata": {},
     "output_type": "display_data"
    },
    {
     "data": {
      "text/markdown": [
       " **School enrollment, preprimary (% gross):**  32%"
      ],
      "text/plain": [
       "<IPython.core.display.Markdown object>"
      ]
     },
     "metadata": {},
     "output_type": "display_data"
    },
    {
     "data": {
      "text/markdown": [
       " **School enrollment, primary (% gross):**  32%"
      ],
      "text/plain": [
       "<IPython.core.display.Markdown object>"
      ]
     },
     "metadata": {},
     "output_type": "display_data"
    },
    {
     "data": {
      "text/markdown": [
       " **School enrollment, secondary (% gross):**  42%"
      ],
      "text/plain": [
       "<IPython.core.display.Markdown object>"
      ]
     },
     "metadata": {},
     "output_type": "display_data"
    },
    {
     "data": {
      "text/markdown": [
       " **Preprimary education, duration (years):**  8%"
      ],
      "text/plain": [
       "<IPython.core.display.Markdown object>"
      ]
     },
     "metadata": {},
     "output_type": "display_data"
    },
    {
     "data": {
      "text/markdown": [
       " **Primary education, duration (years):**  3%"
      ],
      "text/plain": [
       "<IPython.core.display.Markdown object>"
      ]
     },
     "metadata": {},
     "output_type": "display_data"
    },
    {
     "data": {
      "text/markdown": [
       " **Population ages 0-14 (% of total population):**  11%"
      ],
      "text/plain": [
       "<IPython.core.display.Markdown object>"
      ]
     },
     "metadata": {},
     "output_type": "display_data"
    },
    {
     "data": {
      "text/markdown": [
       " **Children out of school (% of primary school age):**  38%"
      ],
      "text/plain": [
       "<IPython.core.display.Markdown object>"
      ]
     },
     "metadata": {},
     "output_type": "display_data"
    },
    {
     "data": {
      "text/markdown": [
       " **Children in employment, unpaid family workers (% of children in employment, ages 7-14):**  100%"
      ],
      "text/plain": [
       "<IPython.core.display.Markdown object>"
      ]
     },
     "metadata": {},
     "output_type": "display_data"
    },
    {
     "data": {
      "text/markdown": [
       " **Adjusted net national income per capita (current US$):**  19%"
      ],
      "text/plain": [
       "<IPython.core.display.Markdown object>"
      ]
     },
     "metadata": {},
     "output_type": "display_data"
    },
    {
     "data": {
      "text/markdown": [
       " **Out-of-pocket expenditure per capita (current US$):**  14%"
      ],
      "text/plain": [
       "<IPython.core.display.Markdown object>"
      ]
     },
     "metadata": {},
     "output_type": "display_data"
    }
   ],
   "source": [
    "for i in indicators:\n",
    "    pct_missing = np.mean(i[\"Data\"].isnull())\n",
    "    printmd(f\" **{i.Indicator[0]}:**  {round(pct_missing*100)}%\")\n"
   ]
  },
  {
   "cell_type": "code",
   "execution_count": 11,
   "id": "baf3204b",
   "metadata": {},
   "outputs": [],
   "source": [
    "client = pymongo.MongoClient(\"mongodb://localhost:27017\")"
   ]
  },
  {
   "cell_type": "code",
   "execution_count": 12,
   "id": "771046de",
   "metadata": {},
   "outputs": [
    {
     "data": {
      "text/html": [
       "<div>\n",
       "<style scoped>\n",
       "    .dataframe tbody tr th:only-of-type {\n",
       "        vertical-align: middle;\n",
       "    }\n",
       "\n",
       "    .dataframe tbody tr th {\n",
       "        vertical-align: top;\n",
       "    }\n",
       "\n",
       "    .dataframe thead th {\n",
       "        text-align: right;\n",
       "    }\n",
       "</style>\n",
       "<table border=\"1\" class=\"dataframe\">\n",
       "  <thead>\n",
       "    <tr style=\"text-align: right;\">\n",
       "      <th></th>\n",
       "      <th>Indicator</th>\n",
       "      <th>Data</th>\n",
       "    </tr>\n",
       "    <tr>\n",
       "      <th>Country</th>\n",
       "      <th></th>\n",
       "      <th></th>\n",
       "    </tr>\n",
       "  </thead>\n",
       "  <tbody>\n",
       "    <tr>\n",
       "      <th>Afghanistan</th>\n",
       "      <td>Compulsory education, duration (years)</td>\n",
       "      <td>9.0</td>\n",
       "    </tr>\n",
       "    <tr>\n",
       "      <th>Albania</th>\n",
       "      <td>Compulsory education, duration (years)</td>\n",
       "      <td>9.0</td>\n",
       "    </tr>\n",
       "    <tr>\n",
       "      <th>Algeria</th>\n",
       "      <td>Compulsory education, duration (years)</td>\n",
       "      <td>10.0</td>\n",
       "    </tr>\n",
       "    <tr>\n",
       "      <th>American Samoa</th>\n",
       "      <td>Compulsory education, duration (years)</td>\n",
       "      <td>NaN</td>\n",
       "    </tr>\n",
       "    <tr>\n",
       "      <th>Andorra</th>\n",
       "      <td>Compulsory education, duration (years)</td>\n",
       "      <td>10.0</td>\n",
       "    </tr>\n",
       "    <tr>\n",
       "      <th>...</th>\n",
       "      <td>...</td>\n",
       "      <td>...</td>\n",
       "    </tr>\n",
       "    <tr>\n",
       "      <th>Virgin Islands (U.S.)</th>\n",
       "      <td>Compulsory education, duration (years)</td>\n",
       "      <td>NaN</td>\n",
       "    </tr>\n",
       "    <tr>\n",
       "      <th>West Bank and Gaza</th>\n",
       "      <td>Compulsory education, duration (years)</td>\n",
       "      <td>10.0</td>\n",
       "    </tr>\n",
       "    <tr>\n",
       "      <th>Yemen, Rep.</th>\n",
       "      <td>Compulsory education, duration (years)</td>\n",
       "      <td>9.0</td>\n",
       "    </tr>\n",
       "    <tr>\n",
       "      <th>Zambia</th>\n",
       "      <td>Compulsory education, duration (years)</td>\n",
       "      <td>7.0</td>\n",
       "    </tr>\n",
       "    <tr>\n",
       "      <th>Zimbabwe</th>\n",
       "      <td>Compulsory education, duration (years)</td>\n",
       "      <td>7.0</td>\n",
       "    </tr>\n",
       "  </tbody>\n",
       "</table>\n",
       "<p>217 rows × 2 columns</p>\n",
       "</div>"
      ],
      "text/plain": [
       "                                                    Indicator  Data\n",
       "Country                                                            \n",
       "Afghanistan            Compulsory education, duration (years)   9.0\n",
       "Albania                Compulsory education, duration (years)   9.0\n",
       "Algeria                Compulsory education, duration (years)  10.0\n",
       "American Samoa         Compulsory education, duration (years)   NaN\n",
       "Andorra                Compulsory education, duration (years)  10.0\n",
       "...                                                       ...   ...\n",
       "Virgin Islands (U.S.)  Compulsory education, duration (years)   NaN\n",
       "West Bank and Gaza     Compulsory education, duration (years)  10.0\n",
       "Yemen, Rep.            Compulsory education, duration (years)   9.0\n",
       "Zambia                 Compulsory education, duration (years)   7.0\n",
       "Zimbabwe               Compulsory education, duration (years)   7.0\n",
       "\n",
       "[217 rows x 2 columns]"
      ]
     },
     "execution_count": 12,
     "metadata": {},
     "output_type": "execute_result"
    }
   ],
   "source": [
    "access_electricity.set_index('Country')\n",
    "education_expenditure_prim.set_index('Country')\n",
    "drinking_water_services.set_index('Country')\n",
    "basic_sanitation.set_index('Country')\n",
    "measles_immunization.set_index('Country')\n",
    "mortality_rate_under_5.set_index('Country')\n",
    "probability_dying_10_14.set_index('Country')\n",
    "probability_dying_15_19.set_index('Country')\n",
    "probability_dying_5_9.set_index('Country')\n",
    "cooking_tech.set_index('Country')\n",
    "compulsory_education.set_index(\"Country\")"
   ]
  },
  {
   "cell_type": "code",
   "execution_count": 13,
   "id": "0139a7df",
   "metadata": {},
   "outputs": [],
   "source": [
    "data_df = pd.concat([cooking_tech.iloc[:,0],\n",
    "                  cooking_tech.iloc[:,2],\n",
    "               access_electricity.iloc[:,2],\n",
    "               education_expenditure_prim.iloc[:,2],\n",
    "               drinking_water_services.iloc[:,2],\n",
    "                basic_sanitation.iloc[:,2],\n",
    "                measles_immunization.iloc[:,2],\n",
    "                mortality_rate_under_5.iloc[:,2],\n",
    "                probability_dying_5_9.iloc[:,2],\n",
    "                probability_dying_10_14.iloc[:,2],\n",
    "                probability_dying_15_19.iloc[:,2],\n",
    "                compulsory_education.iloc[:,2]\n",
    "                  \n",
    "              \n",
    "              ], axis=1)"
   ]
  },
  {
   "cell_type": "code",
   "execution_count": 14,
   "id": "56b2b7d7",
   "metadata": {},
   "outputs": [
    {
     "data": {
      "text/html": [
       "<div>\n",
       "<style scoped>\n",
       "    .dataframe tbody tr th:only-of-type {\n",
       "        vertical-align: middle;\n",
       "    }\n",
       "\n",
       "    .dataframe tbody tr th {\n",
       "        vertical-align: top;\n",
       "    }\n",
       "\n",
       "    .dataframe thead th {\n",
       "        text-align: right;\n",
       "    }\n",
       "</style>\n",
       "<table border=\"1\" class=\"dataframe\">\n",
       "  <thead>\n",
       "    <tr style=\"text-align: right;\">\n",
       "      <th></th>\n",
       "      <th>Country</th>\n",
       "      <th>Data</th>\n",
       "      <th>Data</th>\n",
       "      <th>Data</th>\n",
       "      <th>Data</th>\n",
       "      <th>Data</th>\n",
       "      <th>Data</th>\n",
       "      <th>Data</th>\n",
       "      <th>Data</th>\n",
       "      <th>Data</th>\n",
       "      <th>Data</th>\n",
       "      <th>Data</th>\n",
       "    </tr>\n",
       "  </thead>\n",
       "  <tbody>\n",
       "    <tr>\n",
       "      <th>0</th>\n",
       "      <td>Afghanistan</td>\n",
       "      <td>34.099998</td>\n",
       "      <td>98.715622</td>\n",
       "      <td>NaN</td>\n",
       "      <td>69.601931</td>\n",
       "      <td>47.390662</td>\n",
       "      <td>64.0</td>\n",
       "      <td>62.3</td>\n",
       "      <td>3.2</td>\n",
       "      <td>2.4</td>\n",
       "      <td>13.5</td>\n",
       "      <td>9.0</td>\n",
       "    </tr>\n",
       "    <tr>\n",
       "      <th>1</th>\n",
       "      <td>Albania</td>\n",
       "      <td>79.699997</td>\n",
       "      <td>100.000000</td>\n",
       "      <td>99.151772</td>\n",
       "      <td>94.436391</td>\n",
       "      <td>98.973644</td>\n",
       "      <td>94.0</td>\n",
       "      <td>9.5</td>\n",
       "      <td>1.0</td>\n",
       "      <td>1.1</td>\n",
       "      <td>1.8</td>\n",
       "      <td>9.0</td>\n",
       "    </tr>\n",
       "    <tr>\n",
       "      <th>2</th>\n",
       "      <td>Algeria</td>\n",
       "      <td>99.300003</td>\n",
       "      <td>99.641922</td>\n",
       "      <td>NaN</td>\n",
       "      <td>94.037413</td>\n",
       "      <td>86.303092</td>\n",
       "      <td>80.0</td>\n",
       "      <td>23.8</td>\n",
       "      <td>1.8</td>\n",
       "      <td>1.7</td>\n",
       "      <td>2.7</td>\n",
       "      <td>10.0</td>\n",
       "    </tr>\n",
       "    <tr>\n",
       "      <th>3</th>\n",
       "      <td>American Samoa</td>\n",
       "      <td>NaN</td>\n",
       "      <td>NaN</td>\n",
       "      <td>NaN</td>\n",
       "      <td>99.773772</td>\n",
       "      <td>54.454760</td>\n",
       "      <td>NaN</td>\n",
       "      <td>NaN</td>\n",
       "      <td>NaN</td>\n",
       "      <td>NaN</td>\n",
       "      <td>NaN</td>\n",
       "      <td>NaN</td>\n",
       "    </tr>\n",
       "    <tr>\n",
       "      <th>4</th>\n",
       "      <td>Andorra</td>\n",
       "      <td>100.000000</td>\n",
       "      <td>100.000000</td>\n",
       "      <td>99.154060</td>\n",
       "      <td>100.000001</td>\n",
       "      <td>100.000001</td>\n",
       "      <td>99.0</td>\n",
       "      <td>2.8</td>\n",
       "      <td>0.3</td>\n",
       "      <td>0.4</td>\n",
       "      <td>1.3</td>\n",
       "      <td>10.0</td>\n",
       "    </tr>\n",
       "    <tr>\n",
       "      <th>...</th>\n",
       "      <td>...</td>\n",
       "      <td>...</td>\n",
       "      <td>...</td>\n",
       "      <td>...</td>\n",
       "      <td>...</td>\n",
       "      <td>...</td>\n",
       "      <td>...</td>\n",
       "      <td>...</td>\n",
       "      <td>...</td>\n",
       "      <td>...</td>\n",
       "      <td>...</td>\n",
       "      <td>...</td>\n",
       "    </tr>\n",
       "    <tr>\n",
       "      <th>212</th>\n",
       "      <td>Virgin Islands (U.S.)</td>\n",
       "      <td>NaN</td>\n",
       "      <td>100.000000</td>\n",
       "      <td>NaN</td>\n",
       "      <td>98.718267</td>\n",
       "      <td>99.371278</td>\n",
       "      <td>NaN</td>\n",
       "      <td>NaN</td>\n",
       "      <td>NaN</td>\n",
       "      <td>NaN</td>\n",
       "      <td>NaN</td>\n",
       "      <td>NaN</td>\n",
       "    </tr>\n",
       "    <tr>\n",
       "      <th>213</th>\n",
       "      <td>West Bank and Gaza</td>\n",
       "      <td>NaN</td>\n",
       "      <td>99.990372</td>\n",
       "      <td>NaN</td>\n",
       "      <td>97.289425</td>\n",
       "      <td>97.637751</td>\n",
       "      <td>NaN</td>\n",
       "      <td>17.5</td>\n",
       "      <td>1.8</td>\n",
       "      <td>1.9</td>\n",
       "      <td>3.7</td>\n",
       "      <td>10.0</td>\n",
       "    </tr>\n",
       "    <tr>\n",
       "      <th>214</th>\n",
       "      <td>Yemen, Rep.</td>\n",
       "      <td>61.000000</td>\n",
       "      <td>62.000000</td>\n",
       "      <td>NaN</td>\n",
       "      <td>58.754491</td>\n",
       "      <td>53.127016</td>\n",
       "      <td>64.0</td>\n",
       "      <td>61.6</td>\n",
       "      <td>4.3</td>\n",
       "      <td>2.8</td>\n",
       "      <td>9.6</td>\n",
       "      <td>9.0</td>\n",
       "    </tr>\n",
       "    <tr>\n",
       "      <th>215</th>\n",
       "      <td>Zambia</td>\n",
       "      <td>15.700000</td>\n",
       "      <td>39.822304</td>\n",
       "      <td>NaN</td>\n",
       "      <td>63.804111</td>\n",
       "      <td>31.052407</td>\n",
       "      <td>94.0</td>\n",
       "      <td>65.4</td>\n",
       "      <td>7.3</td>\n",
       "      <td>4.5</td>\n",
       "      <td>9.9</td>\n",
       "      <td>7.0</td>\n",
       "    </tr>\n",
       "    <tr>\n",
       "      <th>216</th>\n",
       "      <td>Zimbabwe</td>\n",
       "      <td>29.799999</td>\n",
       "      <td>40.616360</td>\n",
       "      <td>NaN</td>\n",
       "      <td>63.538773</td>\n",
       "      <td>36.357160</td>\n",
       "      <td>88.0</td>\n",
       "      <td>54.8</td>\n",
       "      <td>4.5</td>\n",
       "      <td>9.1</td>\n",
       "      <td>10.2</td>\n",
       "      <td>7.0</td>\n",
       "    </tr>\n",
       "  </tbody>\n",
       "</table>\n",
       "<p>217 rows × 12 columns</p>\n",
       "</div>"
      ],
      "text/plain": [
       "                   Country        Data        Data       Data        Data  \\\n",
       "0              Afghanistan   34.099998   98.715622        NaN   69.601931   \n",
       "1                  Albania   79.699997  100.000000  99.151772   94.436391   \n",
       "2                  Algeria   99.300003   99.641922        NaN   94.037413   \n",
       "3           American Samoa         NaN         NaN        NaN   99.773772   \n",
       "4                  Andorra  100.000000  100.000000  99.154060  100.000001   \n",
       "..                     ...         ...         ...        ...         ...   \n",
       "212  Virgin Islands (U.S.)         NaN  100.000000        NaN   98.718267   \n",
       "213     West Bank and Gaza         NaN   99.990372        NaN   97.289425   \n",
       "214            Yemen, Rep.   61.000000   62.000000        NaN   58.754491   \n",
       "215                 Zambia   15.700000   39.822304        NaN   63.804111   \n",
       "216               Zimbabwe   29.799999   40.616360        NaN   63.538773   \n",
       "\n",
       "           Data  Data  Data  Data  Data  Data  Data  \n",
       "0     47.390662  64.0  62.3   3.2   2.4  13.5   9.0  \n",
       "1     98.973644  94.0   9.5   1.0   1.1   1.8   9.0  \n",
       "2     86.303092  80.0  23.8   1.8   1.7   2.7  10.0  \n",
       "3     54.454760   NaN   NaN   NaN   NaN   NaN   NaN  \n",
       "4    100.000001  99.0   2.8   0.3   0.4   1.3  10.0  \n",
       "..          ...   ...   ...   ...   ...   ...   ...  \n",
       "212   99.371278   NaN   NaN   NaN   NaN   NaN   NaN  \n",
       "213   97.637751   NaN  17.5   1.8   1.9   3.7  10.0  \n",
       "214   53.127016  64.0  61.6   4.3   2.8   9.6   9.0  \n",
       "215   31.052407  94.0  65.4   7.3   4.5   9.9   7.0  \n",
       "216   36.357160  88.0  54.8   4.5   9.1  10.2   7.0  \n",
       "\n",
       "[217 rows x 12 columns]"
      ]
     },
     "execution_count": 14,
     "metadata": {},
     "output_type": "execute_result"
    }
   ],
   "source": [
    "data_df"
   ]
  },
  {
   "cell_type": "code",
   "execution_count": 15,
   "id": "fe275a44",
   "metadata": {},
   "outputs": [],
   "source": [
    "header = ['Country', 'Cooking Tech', 'Access to Electricity', 'Education Expenditure', 'Access to Drinking Water'\n",
    "          , 'Basic Sanitation', 'Measles Immunization', \"Mortality Rate < 5\",'Probability of Dying 5-9','Probability of Dying 10-14', 'Probability of Dying 15-19', 'Compulsory Education' \n",
    "         ]\n",
    "\n",
    "data_df.columns = header"
   ]
  },
  {
   "cell_type": "code",
   "execution_count": 16,
   "id": "aa4b7de5",
   "metadata": {},
   "outputs": [],
   "source": [
    "data_df = data_df.fillna(\"0\")"
   ]
  },
  {
   "cell_type": "code",
   "execution_count": 17,
   "id": "d75073aa",
   "metadata": {},
   "outputs": [
    {
     "data": {
      "text/html": [
       "<div>\n",
       "<style scoped>\n",
       "    .dataframe tbody tr th:only-of-type {\n",
       "        vertical-align: middle;\n",
       "    }\n",
       "\n",
       "    .dataframe tbody tr th {\n",
       "        vertical-align: top;\n",
       "    }\n",
       "\n",
       "    .dataframe thead th {\n",
       "        text-align: right;\n",
       "    }\n",
       "</style>\n",
       "<table border=\"1\" class=\"dataframe\">\n",
       "  <thead>\n",
       "    <tr style=\"text-align: right;\">\n",
       "      <th></th>\n",
       "      <th>Country</th>\n",
       "      <th>Indicator</th>\n",
       "      <th>Data</th>\n",
       "    </tr>\n",
       "  </thead>\n",
       "  <tbody>\n",
       "    <tr>\n",
       "      <th>70707</th>\n",
       "      <td>Afghanistan</td>\n",
       "      <td>Access to clean fuels and technologies for coo...</td>\n",
       "      <td>34.099998</td>\n",
       "    </tr>\n",
       "    <tr>\n",
       "      <th>70708</th>\n",
       "      <td>Afghanistan</td>\n",
       "      <td>Access to electricity (% of population)</td>\n",
       "      <td>98.715622</td>\n",
       "    </tr>\n",
       "    <tr>\n",
       "      <th>70709</th>\n",
       "      <td>Afghanistan</td>\n",
       "      <td>Access to electricity, rural (% of rural popul...</td>\n",
       "      <td>98.309603</td>\n",
       "    </tr>\n",
       "    <tr>\n",
       "      <th>70710</th>\n",
       "      <td>Afghanistan</td>\n",
       "      <td>Access to electricity, urban (% of urban popul...</td>\n",
       "      <td>99.902145</td>\n",
       "    </tr>\n",
       "    <tr>\n",
       "      <th>70711</th>\n",
       "      <td>Afghanistan</td>\n",
       "      <td>Account ownership at a financial institution o...</td>\n",
       "      <td>NaN</td>\n",
       "    </tr>\n",
       "    <tr>\n",
       "      <th>...</th>\n",
       "      <td>...</td>\n",
       "      <td>...</td>\n",
       "      <td>...</td>\n",
       "    </tr>\n",
       "    <tr>\n",
       "      <th>383833</th>\n",
       "      <td>Zimbabwe</td>\n",
       "      <td>Women who believe a husband is justified in be...</td>\n",
       "      <td>NaN</td>\n",
       "    </tr>\n",
       "    <tr>\n",
       "      <th>383834</th>\n",
       "      <td>Zimbabwe</td>\n",
       "      <td>Women who were first married by age 15 (% of w...</td>\n",
       "      <td>NaN</td>\n",
       "    </tr>\n",
       "    <tr>\n",
       "      <th>383835</th>\n",
       "      <td>Zimbabwe</td>\n",
       "      <td>Women who were first married by age 18 (% of w...</td>\n",
       "      <td>NaN</td>\n",
       "    </tr>\n",
       "    <tr>\n",
       "      <th>383836</th>\n",
       "      <td>Zimbabwe</td>\n",
       "      <td>Women's share of population ages 15+ living wi...</td>\n",
       "      <td>60.000000</td>\n",
       "    </tr>\n",
       "    <tr>\n",
       "      <th>383837</th>\n",
       "      <td>Zimbabwe</td>\n",
       "      <td>Young people (ages 15-24) newly infected with HIV</td>\n",
       "      <td>9700.000000</td>\n",
       "    </tr>\n",
       "  </tbody>\n",
       "</table>\n",
       "<p>313131 rows × 3 columns</p>\n",
       "</div>"
      ],
      "text/plain": [
       "            Country                                          Indicator  \\\n",
       "70707   Afghanistan  Access to clean fuels and technologies for coo...   \n",
       "70708   Afghanistan            Access to electricity (% of population)   \n",
       "70709   Afghanistan  Access to electricity, rural (% of rural popul...   \n",
       "70710   Afghanistan  Access to electricity, urban (% of urban popul...   \n",
       "70711   Afghanistan  Account ownership at a financial institution o...   \n",
       "...             ...                                                ...   \n",
       "383833     Zimbabwe  Women who believe a husband is justified in be...   \n",
       "383834     Zimbabwe  Women who were first married by age 15 (% of w...   \n",
       "383835     Zimbabwe  Women who were first married by age 18 (% of w...   \n",
       "383836     Zimbabwe  Women's share of population ages 15+ living wi...   \n",
       "383837     Zimbabwe  Young people (ages 15-24) newly infected with HIV   \n",
       "\n",
       "               Data  \n",
       "70707     34.099998  \n",
       "70708     98.715622  \n",
       "70709     98.309603  \n",
       "70710     99.902145  \n",
       "70711           NaN  \n",
       "...             ...  \n",
       "383833          NaN  \n",
       "383834          NaN  \n",
       "383835          NaN  \n",
       "383836    60.000000  \n",
       "383837  9700.000000  \n",
       "\n",
       "[313131 rows x 3 columns]"
      ]
     },
     "execution_count": 17,
     "metadata": {},
     "output_type": "execute_result"
    }
   ],
   "source": [
    "data"
   ]
  },
  {
   "cell_type": "code",
   "execution_count": 18,
   "id": "957d919d",
   "metadata": {},
   "outputs": [],
   "source": [
    "data_df.iloc[:,2:12] = data_df.iloc[:,2:12].astype(float, errors = 'raise')\n"
   ]
  },
  {
   "cell_type": "code",
   "execution_count": 19,
   "id": "4b24ba60",
   "metadata": {},
   "outputs": [
    {
     "data": {
      "text/html": [
       "<div>\n",
       "<style scoped>\n",
       "    .dataframe tbody tr th:only-of-type {\n",
       "        vertical-align: middle;\n",
       "    }\n",
       "\n",
       "    .dataframe tbody tr th {\n",
       "        vertical-align: top;\n",
       "    }\n",
       "\n",
       "    .dataframe thead th {\n",
       "        text-align: right;\n",
       "    }\n",
       "</style>\n",
       "<table border=\"1\" class=\"dataframe\">\n",
       "  <thead>\n",
       "    <tr style=\"text-align: right;\">\n",
       "      <th></th>\n",
       "      <th>Country</th>\n",
       "      <th>Cooking Tech</th>\n",
       "      <th>Access to Electricity</th>\n",
       "      <th>Education Expenditure</th>\n",
       "      <th>Access to Drinking Water</th>\n",
       "      <th>Basic Sanitation</th>\n",
       "      <th>Measles Immunization</th>\n",
       "      <th>Mortality Rate &lt; 5</th>\n",
       "      <th>Probability of Dying 5-9</th>\n",
       "      <th>Probability of Dying 10-14</th>\n",
       "      <th>Probability of Dying 15-19</th>\n",
       "      <th>Compulsory Education</th>\n",
       "    </tr>\n",
       "  </thead>\n",
       "  <tbody>\n",
       "    <tr>\n",
       "      <th>0</th>\n",
       "      <td>Afghanistan</td>\n",
       "      <td>34.099998</td>\n",
       "      <td>98.715622</td>\n",
       "      <td>0.000000</td>\n",
       "      <td>69.601931</td>\n",
       "      <td>47.390662</td>\n",
       "      <td>64.0</td>\n",
       "      <td>62.3</td>\n",
       "      <td>3.2</td>\n",
       "      <td>2.4</td>\n",
       "      <td>13.5</td>\n",
       "      <td>9.0</td>\n",
       "    </tr>\n",
       "    <tr>\n",
       "      <th>1</th>\n",
       "      <td>Albania</td>\n",
       "      <td>79.699997</td>\n",
       "      <td>100.000000</td>\n",
       "      <td>99.151772</td>\n",
       "      <td>94.436391</td>\n",
       "      <td>98.973644</td>\n",
       "      <td>94.0</td>\n",
       "      <td>9.5</td>\n",
       "      <td>1.0</td>\n",
       "      <td>1.1</td>\n",
       "      <td>1.8</td>\n",
       "      <td>9.0</td>\n",
       "    </tr>\n",
       "    <tr>\n",
       "      <th>2</th>\n",
       "      <td>Algeria</td>\n",
       "      <td>99.300003</td>\n",
       "      <td>99.641922</td>\n",
       "      <td>0.000000</td>\n",
       "      <td>94.037413</td>\n",
       "      <td>86.303092</td>\n",
       "      <td>80.0</td>\n",
       "      <td>23.8</td>\n",
       "      <td>1.8</td>\n",
       "      <td>1.7</td>\n",
       "      <td>2.7</td>\n",
       "      <td>10.0</td>\n",
       "    </tr>\n",
       "    <tr>\n",
       "      <th>3</th>\n",
       "      <td>American Samoa</td>\n",
       "      <td>0</td>\n",
       "      <td>0.000000</td>\n",
       "      <td>0.000000</td>\n",
       "      <td>99.773772</td>\n",
       "      <td>54.454760</td>\n",
       "      <td>0.0</td>\n",
       "      <td>0.0</td>\n",
       "      <td>0.0</td>\n",
       "      <td>0.0</td>\n",
       "      <td>0.0</td>\n",
       "      <td>0.0</td>\n",
       "    </tr>\n",
       "    <tr>\n",
       "      <th>4</th>\n",
       "      <td>Andorra</td>\n",
       "      <td>100.0</td>\n",
       "      <td>100.000000</td>\n",
       "      <td>99.154060</td>\n",
       "      <td>100.000001</td>\n",
       "      <td>100.000001</td>\n",
       "      <td>99.0</td>\n",
       "      <td>2.8</td>\n",
       "      <td>0.3</td>\n",
       "      <td>0.4</td>\n",
       "      <td>1.3</td>\n",
       "      <td>10.0</td>\n",
       "    </tr>\n",
       "    <tr>\n",
       "      <th>...</th>\n",
       "      <td>...</td>\n",
       "      <td>...</td>\n",
       "      <td>...</td>\n",
       "      <td>...</td>\n",
       "      <td>...</td>\n",
       "      <td>...</td>\n",
       "      <td>...</td>\n",
       "      <td>...</td>\n",
       "      <td>...</td>\n",
       "      <td>...</td>\n",
       "      <td>...</td>\n",
       "      <td>...</td>\n",
       "    </tr>\n",
       "    <tr>\n",
       "      <th>212</th>\n",
       "      <td>Virgin Islands (U.S.)</td>\n",
       "      <td>0</td>\n",
       "      <td>100.000000</td>\n",
       "      <td>0.000000</td>\n",
       "      <td>98.718267</td>\n",
       "      <td>99.371278</td>\n",
       "      <td>0.0</td>\n",
       "      <td>0.0</td>\n",
       "      <td>0.0</td>\n",
       "      <td>0.0</td>\n",
       "      <td>0.0</td>\n",
       "      <td>0.0</td>\n",
       "    </tr>\n",
       "    <tr>\n",
       "      <th>213</th>\n",
       "      <td>West Bank and Gaza</td>\n",
       "      <td>0</td>\n",
       "      <td>99.990372</td>\n",
       "      <td>0.000000</td>\n",
       "      <td>97.289425</td>\n",
       "      <td>97.637751</td>\n",
       "      <td>0.0</td>\n",
       "      <td>17.5</td>\n",
       "      <td>1.8</td>\n",
       "      <td>1.9</td>\n",
       "      <td>3.7</td>\n",
       "      <td>10.0</td>\n",
       "    </tr>\n",
       "    <tr>\n",
       "      <th>214</th>\n",
       "      <td>Yemen, Rep.</td>\n",
       "      <td>61.0</td>\n",
       "      <td>62.000000</td>\n",
       "      <td>0.000000</td>\n",
       "      <td>58.754491</td>\n",
       "      <td>53.127016</td>\n",
       "      <td>64.0</td>\n",
       "      <td>61.6</td>\n",
       "      <td>4.3</td>\n",
       "      <td>2.8</td>\n",
       "      <td>9.6</td>\n",
       "      <td>9.0</td>\n",
       "    </tr>\n",
       "    <tr>\n",
       "      <th>215</th>\n",
       "      <td>Zambia</td>\n",
       "      <td>15.7</td>\n",
       "      <td>39.822304</td>\n",
       "      <td>0.000000</td>\n",
       "      <td>63.804111</td>\n",
       "      <td>31.052407</td>\n",
       "      <td>94.0</td>\n",
       "      <td>65.4</td>\n",
       "      <td>7.3</td>\n",
       "      <td>4.5</td>\n",
       "      <td>9.9</td>\n",
       "      <td>7.0</td>\n",
       "    </tr>\n",
       "    <tr>\n",
       "      <th>216</th>\n",
       "      <td>Zimbabwe</td>\n",
       "      <td>29.799999</td>\n",
       "      <td>40.616360</td>\n",
       "      <td>0.000000</td>\n",
       "      <td>63.538773</td>\n",
       "      <td>36.357160</td>\n",
       "      <td>88.0</td>\n",
       "      <td>54.8</td>\n",
       "      <td>4.5</td>\n",
       "      <td>9.1</td>\n",
       "      <td>10.2</td>\n",
       "      <td>7.0</td>\n",
       "    </tr>\n",
       "  </tbody>\n",
       "</table>\n",
       "<p>217 rows × 12 columns</p>\n",
       "</div>"
      ],
      "text/plain": [
       "                   Country Cooking Tech  Access to Electricity  \\\n",
       "0              Afghanistan    34.099998              98.715622   \n",
       "1                  Albania    79.699997             100.000000   \n",
       "2                  Algeria    99.300003              99.641922   \n",
       "3           American Samoa            0               0.000000   \n",
       "4                  Andorra        100.0             100.000000   \n",
       "..                     ...          ...                    ...   \n",
       "212  Virgin Islands (U.S.)            0             100.000000   \n",
       "213     West Bank and Gaza            0              99.990372   \n",
       "214            Yemen, Rep.         61.0              62.000000   \n",
       "215                 Zambia         15.7              39.822304   \n",
       "216               Zimbabwe    29.799999              40.616360   \n",
       "\n",
       "     Education Expenditure  Access to Drinking Water  Basic Sanitation  \\\n",
       "0                 0.000000                 69.601931         47.390662   \n",
       "1                99.151772                 94.436391         98.973644   \n",
       "2                 0.000000                 94.037413         86.303092   \n",
       "3                 0.000000                 99.773772         54.454760   \n",
       "4                99.154060                100.000001        100.000001   \n",
       "..                     ...                       ...               ...   \n",
       "212               0.000000                 98.718267         99.371278   \n",
       "213               0.000000                 97.289425         97.637751   \n",
       "214               0.000000                 58.754491         53.127016   \n",
       "215               0.000000                 63.804111         31.052407   \n",
       "216               0.000000                 63.538773         36.357160   \n",
       "\n",
       "     Measles Immunization  Mortality Rate < 5  Probability of Dying 5-9  \\\n",
       "0                    64.0                62.3                       3.2   \n",
       "1                    94.0                 9.5                       1.0   \n",
       "2                    80.0                23.8                       1.8   \n",
       "3                     0.0                 0.0                       0.0   \n",
       "4                    99.0                 2.8                       0.3   \n",
       "..                    ...                 ...                       ...   \n",
       "212                   0.0                 0.0                       0.0   \n",
       "213                   0.0                17.5                       1.8   \n",
       "214                  64.0                61.6                       4.3   \n",
       "215                  94.0                65.4                       7.3   \n",
       "216                  88.0                54.8                       4.5   \n",
       "\n",
       "     Probability of Dying 10-14  Probability of Dying 15-19  \\\n",
       "0                           2.4                        13.5   \n",
       "1                           1.1                         1.8   \n",
       "2                           1.7                         2.7   \n",
       "3                           0.0                         0.0   \n",
       "4                           0.4                         1.3   \n",
       "..                          ...                         ...   \n",
       "212                         0.0                         0.0   \n",
       "213                         1.9                         3.7   \n",
       "214                         2.8                         9.6   \n",
       "215                         4.5                         9.9   \n",
       "216                         9.1                        10.2   \n",
       "\n",
       "     Compulsory Education  \n",
       "0                     9.0  \n",
       "1                     9.0  \n",
       "2                    10.0  \n",
       "3                     0.0  \n",
       "4                    10.0  \n",
       "..                    ...  \n",
       "212                   0.0  \n",
       "213                  10.0  \n",
       "214                   9.0  \n",
       "215                   7.0  \n",
       "216                   7.0  \n",
       "\n",
       "[217 rows x 12 columns]"
      ]
     },
     "execution_count": 19,
     "metadata": {},
     "output_type": "execute_result"
    }
   ],
   "source": [
    "data_df"
   ]
  },
  {
   "cell_type": "code",
   "execution_count": 20,
   "id": "e3340236",
   "metadata": {},
   "outputs": [],
   "source": [
    "data_dict = data_df.to_dict(orient = \"records\")\n"
   ]
  },
  {
   "cell_type": "code",
   "execution_count": 21,
   "id": "762ba3b8",
   "metadata": {},
   "outputs": [],
   "source": [
    "db = client[\"WDI_db\"]"
   ]
  }
 ],
 "metadata": {
  "kernelspec": {
   "display_name": "Python 3 (ipykernel)",
   "language": "python",
   "name": "python3"
  },
  "language_info": {
   "codemirror_mode": {
    "name": "ipython",
    "version": 3
   },
   "file_extension": ".py",
   "mimetype": "text/x-python",
   "name": "python",
   "nbconvert_exporter": "python",
   "pygments_lexer": "ipython3",
   "version": "3.9.7"
  },
  "varInspector": {
   "cols": {
    "lenName": 16,
    "lenType": 16,
    "lenVar": 40
   },
   "kernels_config": {
    "python": {
     "delete_cmd_postfix": "",
     "delete_cmd_prefix": "del ",
     "library": "var_list.py",
     "varRefreshCmd": "print(var_dic_list())"
    },
    "r": {
     "delete_cmd_postfix": ") ",
     "delete_cmd_prefix": "rm(",
     "library": "var_list.r",
     "varRefreshCmd": "cat(var_dic_list()) "
    }
   },
   "types_to_exclude": [
    "module",
    "function",
    "builtin_function_or_method",
    "instance",
    "_Feature"
   ],
   "window_display": false
  }
 },
 "nbformat": 4,
 "nbformat_minor": 5
}
